{
 "cells": [
  {
   "cell_type": "code",
   "execution_count": 15,
   "metadata": {
    "collapsed": true
   },
   "outputs": [],
   "source": [
    "import numpy as np\n",
    "import scipy.stats as sts\n",
    "import matplotlib.pyplot as plt\n",
    "import scipy.integrate as integrate\n",
    "import scipy.optimize as opt\n",
    "import scipy.special as spc\n",
    "import scipy"
   ]
  },
  {
   "cell_type": "markdown",
   "metadata": {},
   "source": [
    "# Problem 1"
   ]
  },
  {
   "cell_type": "markdown",
   "metadata": {},
   "source": [
    "## a)"
   ]
  },
  {
   "cell_type": "code",
   "execution_count": 332,
   "metadata": {
    "collapsed": false
   },
   "outputs": [],
   "source": [
    "pts = np.loadtxt('data/clms.txt')\n",
    "pts_sub = pts[pts <= 800]\n",
    "weight1 = np.ones(pts.shape[0])/pts.shape[0]\n",
    "weight2 = np.ones(pts_sub.shape[0])/pts_sub.shape[0]\n",
    "\n",
    "count, bins, ignored = plt.hist(pts, 1000, weights = weight1)\n",
    "plt.show()"
   ]
  },
  {
   "cell_type": "code",
   "execution_count": 333,
   "metadata": {
    "collapsed": false
   },
   "outputs": [],
   "source": [
    "count, bins, ignored = plt.hist(pts_sub, 100, weights = weight2)\n",
    "plt.show()"
   ]
  },
  {
   "cell_type": "code",
   "execution_count": 334,
   "metadata": {
    "collapsed": false
   },
   "outputs": [
    {
     "name": "stdout",
     "output_type": "stream",
     "text": [
      "Mean is 720.2779753272437\n",
      "Median is 172.21\n",
      "Max is 227967.25\n",
      "Min is 0.01\n",
      "Std is 3972.663756393663\n"
     ]
    }
   ],
   "source": [
    "print('Mean is {}'.format(pts.mean()))\n",
    "print('Median is {}'.format(np.median(pts)))\n",
    "print('Max is {}'.format(pts.max()))\n",
    "print('Min is {}'.format(pts.min()))\n",
    "print('Std is {}'.format(pts.std()))"
   ]
  },
  {
   "cell_type": "markdown",
   "metadata": {},
   "source": [
    "## b)"
   ]
  },
  {
   "cell_type": "code",
   "execution_count": 335,
   "metadata": {
    "collapsed": false
   },
   "outputs": [],
   "source": [
    "\n",
    "def ga_pdf(xvals, params):\n",
    "    '''\n",
    "    --------------------------------------------------------------------\n",
    "    Generate pdf values from the normal pdf with mean mu and standard\n",
    "    deviation sigma. If the cutoff is given, then the PDF values are\n",
    "    inflated upward to reflect the zero probability on values above the\n",
    "    cutoff. If there is no cutoff given, this function does the same\n",
    "    thing as sp.stats.norm.pdf(x, loc=mu, scale=sigma).\n",
    "    --------------------------------------------------------------------\n",
    "    INPUTS:\n",
    "    xvals  = (N,) vector, values of the normally distributed random\n",
    "             variable\n",
    "    mu     = scalar, mean of the normally distributed random variable\n",
    "    sigma  = scalar > 0, standard deviation of the normally distributed\n",
    "             random variable\n",
    "    cutoff = scalar or string, ='None' if no cutoff is given, otherwise\n",
    "             is scalar upper bound value of distribution. Values above\n",
    "             this value have zero probability\n",
    "    \n",
    "    OTHER FUNCTIONS AND FILES CALLED BY THIS FUNCTION: None\n",
    "    \n",
    "    OBJECTS CREATED WITHIN FUNCTION:\n",
    "    prob_notcut = scalar \n",
    "    pdf_vals = (N,) vector, normal PDF values for mu and sigma\n",
    "               corresponding to xvals data\n",
    "    \n",
    "    FILES CREATED BY THIS FUNCTION: None\n",
    "    \n",
    "    RETURNS: pdf_vals\n",
    "    --------------------------------------------------------------------\n",
    "    '''\n",
    "    alpha, beta = params\n",
    "    gamma = lambda x: x**(alpha - 1)*np.e**(-x)\n",
    "            \n",
    "#     pdf_vals    = xvals**(alpha - 1) * np.e **(-xvals/beta)/(beta ** alpha * integrate.quad(gamma, 0, 1e+3)[0])\n",
    "    pdf_vals    = xvals**(alpha - 1) * np.exp(-xvals/beta)/(beta ** alpha * spc.gamma(alpha))\n",
    "    \n",
    "    return pdf_vals\n",
    "\n",
    "def log_lik_trnorm(f, xvals, params):\n",
    "    pdf_vals = f(xvals, params)\n",
    "    pdf_vals[pdf_vals <= 0] = 1e-10\n",
    "    ln_pdf_vals = np.log(pdf_vals)\n",
    "    log_lik_val = ln_pdf_vals.sum()\n",
    "    \n",
    "    return log_lik_val\n",
    "\n",
    "def crit(params, *args):\n",
    "    xvals, f = args\n",
    "    log_lik_val = log_lik_trnorm(f, xvals, params)\n",
    "    neg_log_lik_val = -log_lik_val\n",
    "    \n",
    "    return neg_log_lik_val"
   ]
  },
  {
   "cell_type": "code",
   "execution_count": 336,
   "metadata": {
    "collapsed": false
   },
   "outputs": [
    {
     "name": "stdout",
     "output_type": "stream",
     "text": [
      "alpha_MLE= 0.221755322727  beta_MLE= 21911.0646992\n"
     ]
    }
   ],
   "source": [
    "beta_init = np.var(pts)/pts.mean()\n",
    "alpha_init = pts.mean()/beta_init\n",
    "params_init = np.array([alpha_init, beta_init])\n",
    "# params_init = np.array([1, 1])\n",
    "mle_args = (pts, ga_pdf)\n",
    "results_ga = opt.minimize(crit, params_init, args=(mle_args), method = 'L-BFGS-B', \\\n",
    "                      bounds = ((1e-10, None), (1e-10, None)),\\\n",
    "                      tol = 1e-10)\n",
    "alpha_ga_MLE, beta_ga_MLE = results_ga.x\n",
    "print('alpha_MLE=', alpha_ga_MLE, ' beta_MLE=', beta_ga_MLE)"
   ]
  },
  {
   "cell_type": "code",
   "execution_count": 337,
   "metadata": {
    "collapsed": false
   },
   "outputs": [
    {
     "data": {
      "text/plain": [
       "      fun: 82076.451605662558\n",
       " hess_inv: <2x2 LbfgsInvHessProduct with dtype=float64>\n",
       "      jac: array([ 0.        ,  0.09022187])\n",
       "  message: b'CONVERGENCE: REL_REDUCTION_OF_F_<=_FACTR*EPSMCH'\n",
       "     nfev: 33\n",
       "      nit: 8\n",
       "   status: 0\n",
       "  success: True\n",
       "        x: array([  2.21755323e-01,   2.19110647e+04])"
      ]
     },
     "execution_count": 337,
     "metadata": {},
     "output_type": "execute_result"
    }
   ],
   "source": [
    "results_ga"
   ]
  },
  {
   "cell_type": "code",
   "execution_count": 338,
   "metadata": {
    "collapsed": false
   },
   "outputs": [
    {
     "name": "stdout",
     "output_type": "stream",
     "text": [
      "Log liklihood is  -82076.4516057\n"
     ]
    }
   ],
   "source": [
    "log_lik_ga = log_lik_trnorm(ga_pdf, pts, results_ga.x)\n",
    "print('Log liklihood is ', log_lik_ga)"
   ]
  },
  {
   "cell_type": "code",
   "execution_count": 339,
   "metadata": {
    "collapsed": false
   },
   "outputs": [
    {
     "data": {
      "application/javascript": [
       "/* Put everything inside the global mpl namespace */\n",
       "window.mpl = {};\n",
       "\n",
       "mpl.get_websocket_type = function() {\n",
       "    if (typeof(WebSocket) !== 'undefined') {\n",
       "        return WebSocket;\n",
       "    } else if (typeof(MozWebSocket) !== 'undefined') {\n",
       "        return MozWebSocket;\n",
       "    } else {\n",
       "        alert('Your browser does not have WebSocket support.' +\n",
       "              'Please try Chrome, Safari or Firefox ≥ 6. ' +\n",
       "              'Firefox 4 and 5 are also supported but you ' +\n",
       "              'have to enable WebSockets in about:config.');\n",
       "    };\n",
       "}\n",
       "\n",
       "mpl.figure = function(figure_id, websocket, ondownload, parent_element) {\n",
       "    this.id = figure_id;\n",
       "\n",
       "    this.ws = websocket;\n",
       "\n",
       "    this.supports_binary = (this.ws.binaryType != undefined);\n",
       "\n",
       "    if (!this.supports_binary) {\n",
       "        var warnings = document.getElementById(\"mpl-warnings\");\n",
       "        if (warnings) {\n",
       "            warnings.style.display = 'block';\n",
       "            warnings.textContent = (\n",
       "                \"This browser does not support binary websocket messages. \" +\n",
       "                    \"Performance may be slow.\");\n",
       "        }\n",
       "    }\n",
       "\n",
       "    this.imageObj = new Image();\n",
       "\n",
       "    this.context = undefined;\n",
       "    this.message = undefined;\n",
       "    this.canvas = undefined;\n",
       "    this.rubberband_canvas = undefined;\n",
       "    this.rubberband_context = undefined;\n",
       "    this.format_dropdown = undefined;\n",
       "\n",
       "    this.image_mode = 'full';\n",
       "\n",
       "    this.root = $('<div/>');\n",
       "    this._root_extra_style(this.root)\n",
       "    this.root.attr('style', 'display: inline-block');\n",
       "\n",
       "    $(parent_element).append(this.root);\n",
       "\n",
       "    this._init_header(this);\n",
       "    this._init_canvas(this);\n",
       "    this._init_toolbar(this);\n",
       "\n",
       "    var fig = this;\n",
       "\n",
       "    this.waiting = false;\n",
       "\n",
       "    this.ws.onopen =  function () {\n",
       "            fig.send_message(\"supports_binary\", {value: fig.supports_binary});\n",
       "            fig.send_message(\"send_image_mode\", {});\n",
       "            fig.send_message(\"refresh\", {});\n",
       "        }\n",
       "\n",
       "    this.imageObj.onload = function() {\n",
       "            if (fig.image_mode == 'full') {\n",
       "                // Full images could contain transparency (where diff images\n",
       "                // almost always do), so we need to clear the canvas so that\n",
       "                // there is no ghosting.\n",
       "                fig.context.clearRect(0, 0, fig.canvas.width, fig.canvas.height);\n",
       "            }\n",
       "            fig.context.drawImage(fig.imageObj, 0, 0);\n",
       "        };\n",
       "\n",
       "    this.imageObj.onunload = function() {\n",
       "        this.ws.close();\n",
       "    }\n",
       "\n",
       "    this.ws.onmessage = this._make_on_message_function(this);\n",
       "\n",
       "    this.ondownload = ondownload;\n",
       "}\n",
       "\n",
       "mpl.figure.prototype._init_header = function() {\n",
       "    var titlebar = $(\n",
       "        '<div class=\"ui-dialog-titlebar ui-widget-header ui-corner-all ' +\n",
       "        'ui-helper-clearfix\"/>');\n",
       "    var titletext = $(\n",
       "        '<div class=\"ui-dialog-title\" style=\"width: 100%; ' +\n",
       "        'text-align: center; padding: 3px;\"/>');\n",
       "    titlebar.append(titletext)\n",
       "    this.root.append(titlebar);\n",
       "    this.header = titletext[0];\n",
       "}\n",
       "\n",
       "\n",
       "\n",
       "mpl.figure.prototype._canvas_extra_style = function(canvas_div) {\n",
       "\n",
       "}\n",
       "\n",
       "\n",
       "mpl.figure.prototype._root_extra_style = function(canvas_div) {\n",
       "\n",
       "}\n",
       "\n",
       "mpl.figure.prototype._init_canvas = function() {\n",
       "    var fig = this;\n",
       "\n",
       "    var canvas_div = $('<div/>');\n",
       "\n",
       "    canvas_div.attr('style', 'position: relative; clear: both; outline: 0');\n",
       "\n",
       "    function canvas_keyboard_event(event) {\n",
       "        return fig.key_event(event, event['data']);\n",
       "    }\n",
       "\n",
       "    canvas_div.keydown('key_press', canvas_keyboard_event);\n",
       "    canvas_div.keyup('key_release', canvas_keyboard_event);\n",
       "    this.canvas_div = canvas_div\n",
       "    this._canvas_extra_style(canvas_div)\n",
       "    this.root.append(canvas_div);\n",
       "\n",
       "    var canvas = $('<canvas/>');\n",
       "    canvas.addClass('mpl-canvas');\n",
       "    canvas.attr('style', \"left: 0; top: 0; z-index: 0; outline: 0\")\n",
       "\n",
       "    this.canvas = canvas[0];\n",
       "    this.context = canvas[0].getContext(\"2d\");\n",
       "\n",
       "    var rubberband = $('<canvas/>');\n",
       "    rubberband.attr('style', \"position: absolute; left: 0; top: 0; z-index: 1;\")\n",
       "\n",
       "    var pass_mouse_events = true;\n",
       "\n",
       "    canvas_div.resizable({\n",
       "        start: function(event, ui) {\n",
       "            pass_mouse_events = false;\n",
       "        },\n",
       "        resize: function(event, ui) {\n",
       "            fig.request_resize(ui.size.width, ui.size.height);\n",
       "        },\n",
       "        stop: function(event, ui) {\n",
       "            pass_mouse_events = true;\n",
       "            fig.request_resize(ui.size.width, ui.size.height);\n",
       "        },\n",
       "    });\n",
       "\n",
       "    function mouse_event_fn(event) {\n",
       "        if (pass_mouse_events)\n",
       "            return fig.mouse_event(event, event['data']);\n",
       "    }\n",
       "\n",
       "    rubberband.mousedown('button_press', mouse_event_fn);\n",
       "    rubberband.mouseup('button_release', mouse_event_fn);\n",
       "    // Throttle sequential mouse events to 1 every 20ms.\n",
       "    rubberband.mousemove('motion_notify', mouse_event_fn);\n",
       "\n",
       "    rubberband.mouseenter('figure_enter', mouse_event_fn);\n",
       "    rubberband.mouseleave('figure_leave', mouse_event_fn);\n",
       "\n",
       "    canvas_div.on(\"wheel\", function (event) {\n",
       "        event = event.originalEvent;\n",
       "        event['data'] = 'scroll'\n",
       "        if (event.deltaY < 0) {\n",
       "            event.step = 1;\n",
       "        } else {\n",
       "            event.step = -1;\n",
       "        }\n",
       "        mouse_event_fn(event);\n",
       "    });\n",
       "\n",
       "    canvas_div.append(canvas);\n",
       "    canvas_div.append(rubberband);\n",
       "\n",
       "    this.rubberband = rubberband;\n",
       "    this.rubberband_canvas = rubberband[0];\n",
       "    this.rubberband_context = rubberband[0].getContext(\"2d\");\n",
       "    this.rubberband_context.strokeStyle = \"#000000\";\n",
       "\n",
       "    this._resize_canvas = function(width, height) {\n",
       "        // Keep the size of the canvas, canvas container, and rubber band\n",
       "        // canvas in synch.\n",
       "        canvas_div.css('width', width)\n",
       "        canvas_div.css('height', height)\n",
       "\n",
       "        canvas.attr('width', width);\n",
       "        canvas.attr('height', height);\n",
       "\n",
       "        rubberband.attr('width', width);\n",
       "        rubberband.attr('height', height);\n",
       "    }\n",
       "\n",
       "    // Set the figure to an initial 600x600px, this will subsequently be updated\n",
       "    // upon first draw.\n",
       "    this._resize_canvas(600, 600);\n",
       "\n",
       "    // Disable right mouse context menu.\n",
       "    $(this.rubberband_canvas).bind(\"contextmenu\",function(e){\n",
       "        return false;\n",
       "    });\n",
       "\n",
       "    function set_focus () {\n",
       "        canvas.focus();\n",
       "        canvas_div.focus();\n",
       "    }\n",
       "\n",
       "    window.setTimeout(set_focus, 100);\n",
       "}\n",
       "\n",
       "mpl.figure.prototype._init_toolbar = function() {\n",
       "    var fig = this;\n",
       "\n",
       "    var nav_element = $('<div/>')\n",
       "    nav_element.attr('style', 'width: 100%');\n",
       "    this.root.append(nav_element);\n",
       "\n",
       "    // Define a callback function for later on.\n",
       "    function toolbar_event(event) {\n",
       "        return fig.toolbar_button_onclick(event['data']);\n",
       "    }\n",
       "    function toolbar_mouse_event(event) {\n",
       "        return fig.toolbar_button_onmouseover(event['data']);\n",
       "    }\n",
       "\n",
       "    for(var toolbar_ind in mpl.toolbar_items) {\n",
       "        var name = mpl.toolbar_items[toolbar_ind][0];\n",
       "        var tooltip = mpl.toolbar_items[toolbar_ind][1];\n",
       "        var image = mpl.toolbar_items[toolbar_ind][2];\n",
       "        var method_name = mpl.toolbar_items[toolbar_ind][3];\n",
       "\n",
       "        if (!name) {\n",
       "            // put a spacer in here.\n",
       "            continue;\n",
       "        }\n",
       "        var button = $('<button/>');\n",
       "        button.addClass('ui-button ui-widget ui-state-default ui-corner-all ' +\n",
       "                        'ui-button-icon-only');\n",
       "        button.attr('role', 'button');\n",
       "        button.attr('aria-disabled', 'false');\n",
       "        button.click(method_name, toolbar_event);\n",
       "        button.mouseover(tooltip, toolbar_mouse_event);\n",
       "\n",
       "        var icon_img = $('<span/>');\n",
       "        icon_img.addClass('ui-button-icon-primary ui-icon');\n",
       "        icon_img.addClass(image);\n",
       "        icon_img.addClass('ui-corner-all');\n",
       "\n",
       "        var tooltip_span = $('<span/>');\n",
       "        tooltip_span.addClass('ui-button-text');\n",
       "        tooltip_span.html(tooltip);\n",
       "\n",
       "        button.append(icon_img);\n",
       "        button.append(tooltip_span);\n",
       "\n",
       "        nav_element.append(button);\n",
       "    }\n",
       "\n",
       "    var fmt_picker_span = $('<span/>');\n",
       "\n",
       "    var fmt_picker = $('<select/>');\n",
       "    fmt_picker.addClass('mpl-toolbar-option ui-widget ui-widget-content');\n",
       "    fmt_picker_span.append(fmt_picker);\n",
       "    nav_element.append(fmt_picker_span);\n",
       "    this.format_dropdown = fmt_picker[0];\n",
       "\n",
       "    for (var ind in mpl.extensions) {\n",
       "        var fmt = mpl.extensions[ind];\n",
       "        var option = $(\n",
       "            '<option/>', {selected: fmt === mpl.default_extension}).html(fmt);\n",
       "        fmt_picker.append(option)\n",
       "    }\n",
       "\n",
       "    // Add hover states to the ui-buttons\n",
       "    $( \".ui-button\" ).hover(\n",
       "        function() { $(this).addClass(\"ui-state-hover\");},\n",
       "        function() { $(this).removeClass(\"ui-state-hover\");}\n",
       "    );\n",
       "\n",
       "    var status_bar = $('<span class=\"mpl-message\"/>');\n",
       "    nav_element.append(status_bar);\n",
       "    this.message = status_bar[0];\n",
       "}\n",
       "\n",
       "mpl.figure.prototype.request_resize = function(x_pixels, y_pixels) {\n",
       "    // Request matplotlib to resize the figure. Matplotlib will then trigger a resize in the client,\n",
       "    // which will in turn request a refresh of the image.\n",
       "    this.send_message('resize', {'width': x_pixels, 'height': y_pixels});\n",
       "}\n",
       "\n",
       "mpl.figure.prototype.send_message = function(type, properties) {\n",
       "    properties['type'] = type;\n",
       "    properties['figure_id'] = this.id;\n",
       "    this.ws.send(JSON.stringify(properties));\n",
       "}\n",
       "\n",
       "mpl.figure.prototype.send_draw_message = function() {\n",
       "    if (!this.waiting) {\n",
       "        this.waiting = true;\n",
       "        this.ws.send(JSON.stringify({type: \"draw\", figure_id: this.id}));\n",
       "    }\n",
       "}\n",
       "\n",
       "\n",
       "mpl.figure.prototype.handle_save = function(fig, msg) {\n",
       "    var format_dropdown = fig.format_dropdown;\n",
       "    var format = format_dropdown.options[format_dropdown.selectedIndex].value;\n",
       "    fig.ondownload(fig, format);\n",
       "}\n",
       "\n",
       "\n",
       "mpl.figure.prototype.handle_resize = function(fig, msg) {\n",
       "    var size = msg['size'];\n",
       "    if (size[0] != fig.canvas.width || size[1] != fig.canvas.height) {\n",
       "        fig._resize_canvas(size[0], size[1]);\n",
       "        fig.send_message(\"refresh\", {});\n",
       "    };\n",
       "}\n",
       "\n",
       "mpl.figure.prototype.handle_rubberband = function(fig, msg) {\n",
       "    var x0 = msg['x0'];\n",
       "    var y0 = fig.canvas.height - msg['y0'];\n",
       "    var x1 = msg['x1'];\n",
       "    var y1 = fig.canvas.height - msg['y1'];\n",
       "    x0 = Math.floor(x0) + 0.5;\n",
       "    y0 = Math.floor(y0) + 0.5;\n",
       "    x1 = Math.floor(x1) + 0.5;\n",
       "    y1 = Math.floor(y1) + 0.5;\n",
       "    var min_x = Math.min(x0, x1);\n",
       "    var min_y = Math.min(y0, y1);\n",
       "    var width = Math.abs(x1 - x0);\n",
       "    var height = Math.abs(y1 - y0);\n",
       "\n",
       "    fig.rubberband_context.clearRect(\n",
       "        0, 0, fig.canvas.width, fig.canvas.height);\n",
       "\n",
       "    fig.rubberband_context.strokeRect(min_x, min_y, width, height);\n",
       "}\n",
       "\n",
       "mpl.figure.prototype.handle_figure_label = function(fig, msg) {\n",
       "    // Updates the figure title.\n",
       "    fig.header.textContent = msg['label'];\n",
       "}\n",
       "\n",
       "mpl.figure.prototype.handle_cursor = function(fig, msg) {\n",
       "    var cursor = msg['cursor'];\n",
       "    switch(cursor)\n",
       "    {\n",
       "    case 0:\n",
       "        cursor = 'pointer';\n",
       "        break;\n",
       "    case 1:\n",
       "        cursor = 'default';\n",
       "        break;\n",
       "    case 2:\n",
       "        cursor = 'crosshair';\n",
       "        break;\n",
       "    case 3:\n",
       "        cursor = 'move';\n",
       "        break;\n",
       "    }\n",
       "    fig.rubberband_canvas.style.cursor = cursor;\n",
       "}\n",
       "\n",
       "mpl.figure.prototype.handle_message = function(fig, msg) {\n",
       "    fig.message.textContent = msg['message'];\n",
       "}\n",
       "\n",
       "mpl.figure.prototype.handle_draw = function(fig, msg) {\n",
       "    // Request the server to send over a new figure.\n",
       "    fig.send_draw_message();\n",
       "}\n",
       "\n",
       "mpl.figure.prototype.handle_image_mode = function(fig, msg) {\n",
       "    fig.image_mode = msg['mode'];\n",
       "}\n",
       "\n",
       "mpl.figure.prototype.updated_canvas_event = function() {\n",
       "    // Called whenever the canvas gets updated.\n",
       "    this.send_message(\"ack\", {});\n",
       "}\n",
       "\n",
       "// A function to construct a web socket function for onmessage handling.\n",
       "// Called in the figure constructor.\n",
       "mpl.figure.prototype._make_on_message_function = function(fig) {\n",
       "    return function socket_on_message(evt) {\n",
       "        if (evt.data instanceof Blob) {\n",
       "            /* FIXME: We get \"Resource interpreted as Image but\n",
       "             * transferred with MIME type text/plain:\" errors on\n",
       "             * Chrome.  But how to set the MIME type?  It doesn't seem\n",
       "             * to be part of the websocket stream */\n",
       "            evt.data.type = \"image/png\";\n",
       "\n",
       "            /* Free the memory for the previous frames */\n",
       "            if (fig.imageObj.src) {\n",
       "                (window.URL || window.webkitURL).revokeObjectURL(\n",
       "                    fig.imageObj.src);\n",
       "            }\n",
       "\n",
       "            fig.imageObj.src = (window.URL || window.webkitURL).createObjectURL(\n",
       "                evt.data);\n",
       "            fig.updated_canvas_event();\n",
       "            fig.waiting = false;\n",
       "            return;\n",
       "        }\n",
       "        else if (typeof evt.data === 'string' && evt.data.slice(0, 21) == \"data:image/png;base64\") {\n",
       "            fig.imageObj.src = evt.data;\n",
       "            fig.updated_canvas_event();\n",
       "            fig.waiting = false;\n",
       "            return;\n",
       "        }\n",
       "\n",
       "        var msg = JSON.parse(evt.data);\n",
       "        var msg_type = msg['type'];\n",
       "\n",
       "        // Call the  \"handle_{type}\" callback, which takes\n",
       "        // the figure and JSON message as its only arguments.\n",
       "        try {\n",
       "            var callback = fig[\"handle_\" + msg_type];\n",
       "        } catch (e) {\n",
       "            console.log(\"No handler for the '\" + msg_type + \"' message type: \", msg);\n",
       "            return;\n",
       "        }\n",
       "\n",
       "        if (callback) {\n",
       "            try {\n",
       "                // console.log(\"Handling '\" + msg_type + \"' message: \", msg);\n",
       "                callback(fig, msg);\n",
       "            } catch (e) {\n",
       "                console.log(\"Exception inside the 'handler_\" + msg_type + \"' callback:\", e, e.stack, msg);\n",
       "            }\n",
       "        }\n",
       "    };\n",
       "}\n",
       "\n",
       "// from http://stackoverflow.com/questions/1114465/getting-mouse-location-in-canvas\n",
       "mpl.findpos = function(e) {\n",
       "    //this section is from http://www.quirksmode.org/js/events_properties.html\n",
       "    var targ;\n",
       "    if (!e)\n",
       "        e = window.event;\n",
       "    if (e.target)\n",
       "        targ = e.target;\n",
       "    else if (e.srcElement)\n",
       "        targ = e.srcElement;\n",
       "    if (targ.nodeType == 3) // defeat Safari bug\n",
       "        targ = targ.parentNode;\n",
       "\n",
       "    // jQuery normalizes the pageX and pageY\n",
       "    // pageX,Y are the mouse positions relative to the document\n",
       "    // offset() returns the position of the element relative to the document\n",
       "    var x = e.pageX - $(targ).offset().left;\n",
       "    var y = e.pageY - $(targ).offset().top;\n",
       "\n",
       "    return {\"x\": x, \"y\": y};\n",
       "};\n",
       "\n",
       "/*\n",
       " * return a copy of an object with only non-object keys\n",
       " * we need this to avoid circular references\n",
       " * http://stackoverflow.com/a/24161582/3208463\n",
       " */\n",
       "function simpleKeys (original) {\n",
       "  return Object.keys(original).reduce(function (obj, key) {\n",
       "    if (typeof original[key] !== 'object')\n",
       "        obj[key] = original[key]\n",
       "    return obj;\n",
       "  }, {});\n",
       "}\n",
       "\n",
       "mpl.figure.prototype.mouse_event = function(event, name) {\n",
       "    var canvas_pos = mpl.findpos(event)\n",
       "\n",
       "    if (name === 'button_press')\n",
       "    {\n",
       "        this.canvas.focus();\n",
       "        this.canvas_div.focus();\n",
       "    }\n",
       "\n",
       "    var x = canvas_pos.x;\n",
       "    var y = canvas_pos.y;\n",
       "\n",
       "    this.send_message(name, {x: x, y: y, button: event.button,\n",
       "                             step: event.step,\n",
       "                             guiEvent: simpleKeys(event)});\n",
       "\n",
       "    /* This prevents the web browser from automatically changing to\n",
       "     * the text insertion cursor when the button is pressed.  We want\n",
       "     * to control all of the cursor setting manually through the\n",
       "     * 'cursor' event from matplotlib */\n",
       "    event.preventDefault();\n",
       "    return false;\n",
       "}\n",
       "\n",
       "mpl.figure.prototype._key_event_extra = function(event, name) {\n",
       "    // Handle any extra behaviour associated with a key event\n",
       "}\n",
       "\n",
       "mpl.figure.prototype.key_event = function(event, name) {\n",
       "\n",
       "    // Prevent repeat events\n",
       "    if (name == 'key_press')\n",
       "    {\n",
       "        if (event.which === this._key)\n",
       "            return;\n",
       "        else\n",
       "            this._key = event.which;\n",
       "    }\n",
       "    if (name == 'key_release')\n",
       "        this._key = null;\n",
       "\n",
       "    var value = '';\n",
       "    if (event.ctrlKey && event.which != 17)\n",
       "        value += \"ctrl+\";\n",
       "    if (event.altKey && event.which != 18)\n",
       "        value += \"alt+\";\n",
       "    if (event.shiftKey && event.which != 16)\n",
       "        value += \"shift+\";\n",
       "\n",
       "    value += 'k';\n",
       "    value += event.which.toString();\n",
       "\n",
       "    this._key_event_extra(event, name);\n",
       "\n",
       "    this.send_message(name, {key: value,\n",
       "                             guiEvent: simpleKeys(event)});\n",
       "    return false;\n",
       "}\n",
       "\n",
       "mpl.figure.prototype.toolbar_button_onclick = function(name) {\n",
       "    if (name == 'download') {\n",
       "        this.handle_save(this, null);\n",
       "    } else {\n",
       "        this.send_message(\"toolbar_button\", {name: name});\n",
       "    }\n",
       "};\n",
       "\n",
       "mpl.figure.prototype.toolbar_button_onmouseover = function(tooltip) {\n",
       "    this.message.textContent = tooltip;\n",
       "};\n",
       "mpl.toolbar_items = [[\"Home\", \"Reset original view\", \"fa fa-home icon-home\", \"home\"], [\"Back\", \"Back to  previous view\", \"fa fa-arrow-left icon-arrow-left\", \"back\"], [\"Forward\", \"Forward to next view\", \"fa fa-arrow-right icon-arrow-right\", \"forward\"], [\"\", \"\", \"\", \"\"], [\"Pan\", \"Pan axes with left mouse, zoom with right\", \"fa fa-arrows icon-move\", \"pan\"], [\"Zoom\", \"Zoom to rectangle\", \"fa fa-square-o icon-check-empty\", \"zoom\"], [\"\", \"\", \"\", \"\"], [\"Download\", \"Download plot\", \"fa fa-floppy-o icon-save\", \"download\"]];\n",
       "\n",
       "mpl.extensions = [\"eps\", \"jpeg\", \"pdf\", \"png\", \"ps\", \"raw\", \"svg\", \"tif\"];\n",
       "\n",
       "mpl.default_extension = \"png\";var comm_websocket_adapter = function(comm) {\n",
       "    // Create a \"websocket\"-like object which calls the given IPython comm\n",
       "    // object with the appropriate methods. Currently this is a non binary\n",
       "    // socket, so there is still some room for performance tuning.\n",
       "    var ws = {};\n",
       "\n",
       "    ws.close = function() {\n",
       "        comm.close()\n",
       "    };\n",
       "    ws.send = function(m) {\n",
       "        //console.log('sending', m);\n",
       "        comm.send(m);\n",
       "    };\n",
       "    // Register the callback with on_msg.\n",
       "    comm.on_msg(function(msg) {\n",
       "        //console.log('receiving', msg['content']['data'], msg);\n",
       "        // Pass the mpl event to the overriden (by mpl) onmessage function.\n",
       "        ws.onmessage(msg['content']['data'])\n",
       "    });\n",
       "    return ws;\n",
       "}\n",
       "\n",
       "mpl.mpl_figure_comm = function(comm, msg) {\n",
       "    // This is the function which gets called when the mpl process\n",
       "    // starts-up an IPython Comm through the \"matplotlib\" channel.\n",
       "\n",
       "    var id = msg.content.data.id;\n",
       "    // Get hold of the div created by the display call when the Comm\n",
       "    // socket was opened in Python.\n",
       "    var element = $(\"#\" + id);\n",
       "    var ws_proxy = comm_websocket_adapter(comm)\n",
       "\n",
       "    function ondownload(figure, format) {\n",
       "        window.open(figure.imageObj.src);\n",
       "    }\n",
       "\n",
       "    var fig = new mpl.figure(id, ws_proxy,\n",
       "                           ondownload,\n",
       "                           element.get(0));\n",
       "\n",
       "    // Call onopen now - mpl needs it, as it is assuming we've passed it a real\n",
       "    // web socket which is closed, not our websocket->open comm proxy.\n",
       "    ws_proxy.onopen();\n",
       "\n",
       "    fig.parent_element = element.get(0);\n",
       "    fig.cell_info = mpl.find_output_cell(\"<div id='\" + id + \"'></div>\");\n",
       "    if (!fig.cell_info) {\n",
       "        console.error(\"Failed to find cell for figure\", id, fig);\n",
       "        return;\n",
       "    }\n",
       "\n",
       "    var output_index = fig.cell_info[2]\n",
       "    var cell = fig.cell_info[0];\n",
       "\n",
       "};\n",
       "\n",
       "mpl.figure.prototype.handle_close = function(fig, msg) {\n",
       "    fig.root.unbind('remove')\n",
       "\n",
       "    // Update the output cell to use the data from the current canvas.\n",
       "    fig.push_to_output();\n",
       "    var dataURL = fig.canvas.toDataURL();\n",
       "    // Re-enable the keyboard manager in IPython - without this line, in FF,\n",
       "    // the notebook keyboard shortcuts fail.\n",
       "    IPython.keyboard_manager.enable()\n",
       "    $(fig.parent_element).html('<img src=\"' + dataURL + '\">');\n",
       "    fig.close_ws(fig, msg);\n",
       "}\n",
       "\n",
       "mpl.figure.prototype.close_ws = function(fig, msg){\n",
       "    fig.send_message('closing', msg);\n",
       "    // fig.ws.close()\n",
       "}\n",
       "\n",
       "mpl.figure.prototype.push_to_output = function(remove_interactive) {\n",
       "    // Turn the data on the canvas into data in the output cell.\n",
       "    var dataURL = this.canvas.toDataURL();\n",
       "    this.cell_info[1]['text/html'] = '<img src=\"' + dataURL + '\">';\n",
       "}\n",
       "\n",
       "mpl.figure.prototype.updated_canvas_event = function() {\n",
       "    // Tell IPython that the notebook contents must change.\n",
       "    IPython.notebook.set_dirty(true);\n",
       "    this.send_message(\"ack\", {});\n",
       "    var fig = this;\n",
       "    // Wait a second, then push the new image to the DOM so\n",
       "    // that it is saved nicely (might be nice to debounce this).\n",
       "    setTimeout(function () { fig.push_to_output() }, 1000);\n",
       "}\n",
       "\n",
       "mpl.figure.prototype._init_toolbar = function() {\n",
       "    var fig = this;\n",
       "\n",
       "    var nav_element = $('<div/>')\n",
       "    nav_element.attr('style', 'width: 100%');\n",
       "    this.root.append(nav_element);\n",
       "\n",
       "    // Define a callback function for later on.\n",
       "    function toolbar_event(event) {\n",
       "        return fig.toolbar_button_onclick(event['data']);\n",
       "    }\n",
       "    function toolbar_mouse_event(event) {\n",
       "        return fig.toolbar_button_onmouseover(event['data']);\n",
       "    }\n",
       "\n",
       "    for(var toolbar_ind in mpl.toolbar_items){\n",
       "        var name = mpl.toolbar_items[toolbar_ind][0];\n",
       "        var tooltip = mpl.toolbar_items[toolbar_ind][1];\n",
       "        var image = mpl.toolbar_items[toolbar_ind][2];\n",
       "        var method_name = mpl.toolbar_items[toolbar_ind][3];\n",
       "\n",
       "        if (!name) { continue; };\n",
       "\n",
       "        var button = $('<button class=\"btn btn-default\" href=\"#\" title=\"' + name + '\"><i class=\"fa ' + image + ' fa-lg\"></i></button>');\n",
       "        button.click(method_name, toolbar_event);\n",
       "        button.mouseover(tooltip, toolbar_mouse_event);\n",
       "        nav_element.append(button);\n",
       "    }\n",
       "\n",
       "    // Add the status bar.\n",
       "    var status_bar = $('<span class=\"mpl-message\" style=\"text-align:right; float: right;\"/>');\n",
       "    nav_element.append(status_bar);\n",
       "    this.message = status_bar[0];\n",
       "\n",
       "    // Add the close button to the window.\n",
       "    var buttongrp = $('<div class=\"btn-group inline pull-right\"></div>');\n",
       "    var button = $('<button class=\"btn btn-mini btn-primary\" href=\"#\" title=\"Stop Interaction\"><i class=\"fa fa-power-off icon-remove icon-large\"></i></button>');\n",
       "    button.click(function (evt) { fig.handle_close(fig, {}); } );\n",
       "    button.mouseover('Stop Interaction', toolbar_mouse_event);\n",
       "    buttongrp.append(button);\n",
       "    var titlebar = this.root.find($('.ui-dialog-titlebar'));\n",
       "    titlebar.prepend(buttongrp);\n",
       "}\n",
       "\n",
       "mpl.figure.prototype._root_extra_style = function(el){\n",
       "    var fig = this\n",
       "    el.on(\"remove\", function(){\n",
       "\tfig.close_ws(fig, {});\n",
       "    });\n",
       "}\n",
       "\n",
       "mpl.figure.prototype._canvas_extra_style = function(el){\n",
       "    // this is important to make the div 'focusable\n",
       "    el.attr('tabindex', 0)\n",
       "    // reach out to IPython and tell the keyboard manager to turn it's self\n",
       "    // off when our div gets focus\n",
       "\n",
       "    // location in version 3\n",
       "    if (IPython.notebook.keyboard_manager) {\n",
       "        IPython.notebook.keyboard_manager.register_events(el);\n",
       "    }\n",
       "    else {\n",
       "        // location in version 2\n",
       "        IPython.keyboard_manager.register_events(el);\n",
       "    }\n",
       "\n",
       "}\n",
       "\n",
       "mpl.figure.prototype._key_event_extra = function(event, name) {\n",
       "    var manager = IPython.notebook.keyboard_manager;\n",
       "    if (!manager)\n",
       "        manager = IPython.keyboard_manager;\n",
       "\n",
       "    // Check for shift+enter\n",
       "    if (event.shiftKey && event.which == 13) {\n",
       "        this.canvas_div.blur();\n",
       "        // select the cell after this one\n",
       "        var index = IPython.notebook.find_cell_index(this.cell_info[0]);\n",
       "        IPython.notebook.select(index + 1);\n",
       "    }\n",
       "}\n",
       "\n",
       "mpl.figure.prototype.handle_save = function(fig, msg) {\n",
       "    fig.ondownload(fig, null);\n",
       "}\n",
       "\n",
       "\n",
       "mpl.find_output_cell = function(html_output) {\n",
       "    // Return the cell and output element which can be found *uniquely* in the notebook.\n",
       "    // Note - this is a bit hacky, but it is done because the \"notebook_saving.Notebook\"\n",
       "    // IPython event is triggered only after the cells have been serialised, which for\n",
       "    // our purposes (turning an active figure into a static one), is too late.\n",
       "    var cells = IPython.notebook.get_cells();\n",
       "    var ncells = cells.length;\n",
       "    for (var i=0; i<ncells; i++) {\n",
       "        var cell = cells[i];\n",
       "        if (cell.cell_type === 'code'){\n",
       "            for (var j=0; j<cell.output_area.outputs.length; j++) {\n",
       "                var data = cell.output_area.outputs[j];\n",
       "                if (data.data) {\n",
       "                    // IPython >= 3 moved mimebundle to data attribute of output\n",
       "                    data = data.data;\n",
       "                }\n",
       "                if (data['text/html'] == html_output) {\n",
       "                    return [cell, data, j];\n",
       "                }\n",
       "            }\n",
       "        }\n",
       "    }\n",
       "}\n",
       "\n",
       "// Register the function which deals with the matplotlib target/channel.\n",
       "// The kernel may be null if the page has been refreshed.\n",
       "if (IPython.notebook.kernel != null) {\n",
       "    IPython.notebook.kernel.comm_manager.register_target('matplotlib', mpl.mpl_figure_comm);\n",
       "}\n"
      ],
      "text/plain": [
       "<IPython.core.display.Javascript object>"
      ]
     },
     "metadata": {},
     "output_type": "display_data"
    },
    {
     "data": {
      "text/html": [
       "<img src=\"data:image/png;base64,iVBORw0KGgoAAAANSUhEUgAAAoAAAAHgCAYAAAA10dzkAAAAAXNSR0IArs4c6QAAQABJREFUeAHt3QucHWV9//HZzT2EbALhIpAQFFEMcrFaBRSrfzBYKYrW2lYRarXipa1EqEpFwQvYl5S2VKn/6t9yEUttFUGkRCmgpajFIjeRyi0khECum8092cv/+50zz+7s7Nlb8szu7Dmf5/X67sw8Z85zzrzPSc5v53I2SWgIIIAAAggggAACCCCAAAIIIIAAAggggAACCCCAAAIIIIAAAggggAACCCCAAAIIIIAAAggggAACCCCAAAIIIIAAAggggAACCCCAAAIIIIAAAggggAACCCCAAAIIIIAAAggggAACCCCAAAIIIIAAAggggAACCCCAAAIIIIAAAggggAACCCCAAAIIIIAAAggggAACCCCAAAIIIIAAAggggAACCCCAAAIIIIAAAggggAACCCCAAAIIIIAAAggggAACCCCAAAIIIIAAAggggAACCCCAAAIIIIAAAggggAACCCCAAAIIIIAAAggggAACCCCAAAIIIIAAAggggAACCCCAAAIIIIAAAggggAACCCCAAAIIIIAAAggggAACCCCAAAIIIIAAAggggAACCCCAAAIIIIAAAggggAACCCCAAAIIIIAAAggggAACCCCAAAIIIIAAAggggAACCCCAAAIIIIAAAggggAACCCCAAAIIIIAAAggggAACCCCAAAIIIIAAAggggAACCCCAAAIIIIAAAggggAACCCCAAAIIIIAAAggggAACCCCAAAIIIIAAAggggAACCCCAAAIIIIAAAggggAACCCCAAAIIIIAAAggggAACCCCAAAIIIIAAAggggAACCCCAAAIIIIAAAggggAACCCCAAAIIIIAAAggggAACCCCAAAIIIIAAAggggAACCCCAAAIIIIAAAgggME4CF+txVyqblDuVRcpgbY5uuE5pV9Yr1yptSmina+Z+xbc5P1fepuTbcGPk12UeAQQQQAABBBBAILLA+RrvKeUlyjTlEuVpZaZSr31fnT9Q5ir7KD9UvquE9jzNOKG9RjNblZeGDk2HGyO3KrMIIIAAAggggAACsQWe0IAfzg06SfPPKe/M9YXZBZrpVo4KHZoenfUdkusLsy2aebXiAvCtWedox8juxgQBBBBAAAEEEEAghsBsDeKC7pWFwZZq+bJCnxdPV1zMFdt2dZyW6/S4G5Qdisf/keK9i24jHaO2Nj8RQAABBBBAAIEJKDC5ws/ZhZqbz+fLNxdv4bZ8v/s25juyed8/v36Hln2IeKryJuUIZafiNtIxamsnifciHqT4/EQaAggggAACCEwcgb31VJ9ReibOU473TKtcALpQc/NFGfnm4s3nARab189f8BFu9/3DWKHPUxd9Nyg+52+z8mVltGO4+Kv3XNRNQwABBBBAAIGKC/gUMV9o2nSt6gXgMr0ir1B+lr0yPgfwOOWabDk/uU8LPpTrcwAfym44RtMpim8brPn2F2U3jnaMdM/fihUrktmz8zsZB3uoxum/4IILkksu8TU5zdXYbl7vZhDgfd4Mr3LfNjbj693R0ZHMnz/fCE17BK/KBaBfmCuV85Q7lCeUTyk+d8977optuTpuUXx+oC8S8eFZz9+khL10Z2r+p8rjig8Bn628TrlccRvJGLU1cz9d/DVbATh16tSm22a/5Gx37o3fBLO83k3wIuc2kdc7h8Fswwu0VnwLXcBdpdymrFGOV05VfLGHS3dX7icqobnAW6u4wHtUWaWcpYT2As34IhKfK7hC8fp/oNyqhDbcGGE9pggggAACCCCAwIQUqPoeQKNelMXz+eYCzidw5lu7Ft6V7yjMX6RlZ6g23BhD3bdpblu8eHHTbGt+Q9nuvEbjz/N6N/5rnN9CXu+8BvONLuDDpLTdF0ivGt64cWNTHg7dfTbuiQACCCCAwPgJ+BzAtrb0ulH/qHeh6Pg9uTF65KofAh4jBh4GAQQQQAABBBBoHgEKwOZ5rdlSBBBAAAEEEEAgFaAA5I2AAAIIIIAAAgg0mQAFYJO94GwuAggggAACCCBAAch7AAEEEEAAAQQQaDIBCsAme8HZXAQQQAABBBBAgAKQ9wACCCCAAAIIINBkAhSATfaCs7kIIIAAAggggAAFIO8BBBBAAAEEEECgyQQoAJvsBWdzEUAAAQQQQAABCkDeAwgggAACCCCAQJMJUAA22QvO5iKAAAIIIIAAAhSAvAcQQAABBBBAAIEmE6AAbLIXnM1FAAEEEEAAAQQoAHkPIIAAAggggAACTSZAAdhkLzibiwACCCCAAAIIUADyHkAAAQQQQAABBJpMgAKwyV5wNhcBBBBAAAEEEKAA5D2AAAIIIIAAAgg0mQAFYJO94GwuAggggAACCCBAAch7AAEEEEAAAQQQaDIBCsAme8HZXAQQQAABBBBAgAKQ9wACCCCAAAIIINBkAhSATfaCs7kIIIAAAggggAAFIO8BBBBAAAEEEECgyQQoAJvsBWdzEUAAAQQQQAABCkDeAwgggAACCCCAQJMJUAA22QvO5iKAAAIIIIAAAhSAvAcQQAABBBBAAIEmE6AAbLIXnM1FAAEEEEAAAQQoAHkPIIAAAggggAACTSZAAdhkLzibiwACCCCAAAIIUADyHkAAAQQQQAABBJpMgAKwyV5wNhcBBBBAAAEEEKAA5D2AAAIIIIAAAgg0mQAFYJO94GwuAggggAACCCBAAch7AAEEEEAAAQQQaDIBCsAIL/gRJx2RfHPpNyOMxBAIIIAAAggggED5AhSAEYyfu/+55LEVj0UYiSEQQAABBBBAAIHyBSgAIxn39PREGolhEEAAAQQQQACBcgUoACP5UgBGgmQYBBBAAAEEEChdgAIwEnF3T3ekkRgGAQQQQAABBBAoV4ACMJJvTzeHgCNRMgwCCCCAAAIIlCxAAVgyMMMjgAACCCCAAAJVE6AAjPSKdCccAo5EyTAIIIAAAgggULIABWAkYA4BR4JkGAQQQAABBBAoXYACMBIxVwFHgmQYBBBAAAEEEChdgAIwEjFXAUeCZBgEEEAAAQQQKF2AAjASMXsAI0EyDAIIIIAAAgiULkABGImYcwAjQTIMAggggAACCJQuQAEYiZhDwJEgGQYBBBBAAAEEShegAIxEzCHgSJAMgwACCCCAAAKlC1AARiKmAIwEyTAIIIAAAgggULrARCgAL5bCSmWTcqeySBmszdEN1yntynrlWqVNCe1MzdylrFPWKLcrJyj5dqcWdigdih/T03MUGgIIIIAAAggg0BACVS8Az5fy2copyjzlbmWpMlOp11z87accphyuHKhcrYQ2SzMuKBcovu1G5VblICU0/1HfLyizlb2z6Vc0HbJxDuCQPNyIAAIIIIAAAhUSqHoB+AFZfVF5WPFeuQuVKcoZSrG5qHujskTZoHgP4EeV05VDFLd/UH6obFG6lL/Lpq/QNN9a8gsjmecQ8EiUWAcBBBBAAAEEqiBQ5QLQe+AWKvfkoFy03accl+sLs8dqZrvyUOjQ9AFlp+Lb6rVXqnMv5f7CjS48fZjYheelitcZsvE1MEPycCMCCCCAAAIIVEig6gWgqXw+X755756Lw2Jz38Zip5Z9/3rrz1f/9YoLvGVKaJ/QzAuVfZV3KIuVrylDNg4BD8nDjQgggAACCCBQIYHJFXouxafiiy/c5tQmvT/nau7p3qW+Ga+fv+Aj3OL7h7FCn88P/IHiAvDToTOb/jS3/KDmP6LcpkxTfBi6brvr5ruSJauXJIsXL05TdyU6EUAAAQQQQGBcBJYuXZo4bjt3+uBgc7dRn+s2xlxP6PEuV76UPe4kTVcp5yq+4CPffA7gk8oxSjgM7Pl7lUOVUDQerXlf+OExL1GGaydpBReA3ovoQ8z55r50r+M5nz8n+YcLfIohDQEEEEAAAQSqLNDR0ZG0taX7jPyjuJOoyk892nOr8iFgb+SVynnKImWG8jnFe+FuUIptuTpuUS5TfPh2XjZ/k6ah+DtB83covsq3XvG3v/p9yDdcZezH/WvlRqVY/Kmrr3ERSJ8FcwgggAACCCBQbYGqF4Au5q5SvAdujXK8cqqyVfE5fJuUE5XQztTMWuVx5VHFewvPUkJzAelq31Pf13Hl/3HFbbryGWWl4n4Xmn7ss5UhG+cADsnDjQgggAACCCBQIYHJFXougz2Vi3SDU2wr1OHv6cs3X/DxrnxHYf71heXiovci+spgGgIIIIAAAggg0LACVd8DOGHg+RqYCfNS8UQRQAABBBBoegEKwEhvgZ6kJ9JIDIMAAggggAACCJQrQAEYybe7uzvSSAyDAAIIIIAAAgiUK0ABGMmXq4AjQTIMAggggAACCJQuQAEYiZgCMBIkwyCAAAIIIIBA6QIUgJGIKQAjQTIMAggggAACCJQuQAEYiZgCMBIkwyCAAAIIIIBA6QIUgJGI+SLoSJAMgwACCCCAAAKlC1AAlk7MAyCAAAIIIIAAAtUSoACM9HpwCDgSJMMggAACCCCAQOkCFICRiCkAI0EyDAIIIIAAAgiULkABGImYPwUXCZJhEEAAAQQQQKB0AQrASMT8KbhIkAyDAAIIIIAAAqULUABGIuZPwUWCZBgEEEAAAQQQKF2AAjASMXsAI0EyDAIIIIAAAgiULkABGImYcwAjQTIMAggggAACCJQuQAEYiZirgCNBMgwCCCCAAAIIlC5AARiJmEPAkSAZBgEEEEAAAQRKF6AAjEXcE2sgxkEAAQQQQAABBMoVoACM5Msh4EiQDIMAAggggAACpQtQAEYipgCMBMkwCCCAAAIIIFC6AAVgJGIKwEiQDIMAAggggAACpQtQAEYi7u7pjjQSwyCAAAIIIIAAAuUKUABG8mUPYCRIhkEAAQQQQACB0gUoACMRUwBGgmQYBBBAAAEEEChdgAIwEjEFYCRIhkEAAQQQQACB0gUoACMRUwBGgmQYBBBAAAEEEChdgAKwdGIeAAEEEEAAAQQQqJYABWCk14M9gJEgGQYBBBBAAAEEShegAIxETAEYCZJhEEAAAQQQQKB0AQrASMQUgJEgGQYBBBBAAAEEShegAIxETAEYCZJhEEAAAQQQQKB0AQrASMQUgJEgGQYBBBBAAAEEShegAIxETAEYCZJhEEAAAQQQQKB0AQrASMQUgJEgGQYBBBBAAAEEShegAIxETAEYCZJhEEAAAQQQQKB0AQrA0ol5AAQQQAABBBBAoFoCFICRXg/2AEaCZBgEEEAAAQQQKF2AAjASMQVgJEiGQQABBBBAAIHSBSgAIxFTAEaCZBgEEEAAAQQQKF2AAjASMQVgJEiGQQABBBBAAIHSBSgAIxFTAEaCZBgEEEAAAQQQKF2AAjASMQVgJEiGQQABBBBAAIHSBSgAIxFTAEaCZBgEEEAAAQQQKF2AAjASMQVgJEiGQQABBBBAAIHSBSgAIxFTAEaCZBgEEEAAAQQQKF2AArB0Yh4AAQQQQAABBBColgAFYKTXgz2AkSAZBgEEEEAAAQRKF6AAjERMARgJkmEQQAABBBBAoHQBCsBIxBSAkSAZBgEEEEAAAQRKF6AAjERMARgJkmEQQAABBBBAoHQBCsBYxD2xBmIcBBBAAAEEEECgXAEKwEi+7AGMBMkwCCCAAAIIIFC6AAVgJGIKwEiQDIMAAggggAACpQtMhALwYimsVDYpdyqLlMHaHN1wndKurFeuVdqU0M7UzF3KOmWNcrtygpJvw42RX7d3ngKwl4IZBBBAAAEEEKi4QNULwPPld7ZyijJPuVtZqsxU6jUXf/sphymHKwcqVyuhzdKMC8oFim+7UblVOUgJbbgxwnpMEUAAAQQQQACBCSnQUvFn/YSe3+XKl7LnOUnTZ5Qligu1fHNRt0w5WnlIcfP8fYpve1qp1zao82zFxeBox5it+2xUkmNOPya570Y/FA0BBBBAAAEEqizQ0dGRtLWlBwj9o6PKz7Ws51blPYAurhYq9+Q2vkvzrrKOy/WF2WM1s10JxZ/7H1B2Kr6tXnulOvdS7s9u3J0x0rv2JFwGnBkyQQABBBBAAIGKC1S9ADRfe8HQe+xcHBZb7964wg2+f73156v/euVSZZniNtoxavfSz55uCsBeDGYQQAABBBBAoNICkyv87MIu2TmF5zhXy/UO53r9dH9uYX3fP4wVbvL5gT9QXAB+OnRqOpoxcnfTcelfPpMsWbIkWbx4cZp+N7KAAAIIIIAAAuMqsHTp0sRx27nTBwebu03EcwBX6SU7V6l3DuCT6j9GCYeBPX+vcqgSisajNe8LP3xe4SVKvvkcwJGMEe7Tu8fwqDcdlTx484OhnykCCCCAAAIIVFSAcwCTpMqHgP22uVI5T/FXv8xQPqfsUG5Qim25Om5RLlP2VeZl8zdpGoq/EzR/h/IFpVj8qSsZyRheb0Dja2AGkNCBAAIIIIAAAhUVqHoB6GLuKuU2xd/bd7xyqrJV8Tl8/m7AE5XQ/D1/a5XHlUcV7y08SwnNBaQPE3vq+zo+7PtxJbThxgjr9ZtSAPbjYAEBBBBAAAEEKixQ9UPAFaZLn1rvIeAjTz0yefjfH6768+X5IYAAAggg0PQCHAKu/iHgifMm7Zk4T5VnigACCCCAAALNLVD1Q8AT5tXhewAnzEvFE0UAAQQQQKDpBSgAY70F2AMYS5JxEEAAAQQQQKBkAQrASMBcBBIJkmEQQAABBBBAoHQBCsBIxBSAkSAZBgEEEEAAAQRKF6AAjERMARgJkmEQQAABBBBAoHQBCsDSiXkABBBAAAEEEECgWgIUgJFeD/YARoJkGAQQQAABBBAoXYACMBIxBWAkSIZBAAEEEEAAgdIFKAAjEVMARoJkGAQQQAABBBAoXYACsHRiHgABBBBAAAEEEKiWAAVgpNeDPYCRIBkGAQQQQAABBEoXoACMREwBGAmSYRBAAAEEEECgdAEKwEjEPd38LbhIlAyDAAIIIIAAAiULUABGAu7u7o40EsMggAACCCCAAALlClAARvJlD2AkSIZBAAEEEEAAgdIFKAAjEfckHAKORMkwCCCAAAIIIFCyAAVgJGD2AEaCZBgEEEAAAQQQKF2AAjASMVcBR4JkGAQQQAABBBAoXYACMBIxewAjQTIMAggggAACCJQuQAEYiZirgCNBMgwCCCCAAAIIlC5AARiLmGtAYkkyDgIIIIAAAgiULEABGAmYcwAjQTIMAggggAACCJQuQAEYiZhDwJEgGQYBBBBAAAEEShegAIxEzB7ASJAMgwACCCCAAAKlC1AARiLmKuBIkAyDAAIIIIAAAqULUABGImYPYCRIhkEAAQQQQACB0gUoAGMRcxVwLEnGQQABBBBAAIGSBSgAIwGzBzASJMMggAACCCCAQOkCFICRiDkHMBIkwyCAAAIIIIBA6QIUgJGI2QMYCZJhEEAAAQQQQKB0AQrASMTsAYwEyTAIIIAAAgggULoABWAkYvYARoJkGAQQQAABBBAoXYACMBYxVwHHkmQcBBBAAAEEEChZgAIwEjCHgCNBMgwCCCCAAAIIlC5AARiJmEPAkSAZBgEEEEAAAQRKF6AAjERMARgJkmEQQAABBBBAoHQBCsBYxJwDGEuScRBAAAEEEECgZAEKwEjA7AGMBMkwCCCAAAIIIFC6AAVgLOLuWAMxDgIIIIAAAgggUK4ABWAkX/YARoJkGAQQQAABBBAoXYACMBIxBWAkSIZBAAEEEEAAgdIFKABjEXMRSCxJxkEAAQQQQACBkgUoACMBswcwEiTDIIAAAggggEDpAhSAsYjZAxhLknEQQAABBBBAoGQBCsBIwPwpuEiQDIMAAggggAACpQtQAMYiZg9gLEnGQQABBBBAAIGSBSgAIwFzDmAkSIZBAAEEEEAAgdIFKABjEbMHMJYk4yCAAAIIIIBAyQIUgLGAKQBjSTIOAggggAACCJQsQAEYCZhDwJEgGQYBBBBAAAEEShegAIxFzB7AWJKMgwACCCCAAAIlC1AAxgKmAIwlyTgIIIAAAgggULIABWAsYArAWJKMgwACCCCAAAIlC0yEAvBiGaxUNil3KouUwdoc3XCd0q6sV65V2pTQjtbMLcoqpVt5vVJsd6pjh9Kh+DE9PUcZsnEO4JA83IgAAggggAACFRKoegF4vqzOVk5R5il3K0uVmUq95uJvP+Uw5XDlQOVqJbSdmvm28iZlsH127v+CMlvZO5t+RdOh22CjDX0vbkUAAQQQQAABBMZcYPKYP+LoHvADWv2LysPZ3S7U9I+VMxQXe/m2QAtvVLyXb0N2w0c1vU85RHlaeSSLJkmLfwzShrqt/l0oAOu70IsAAggggAAClROo8h5A74FbqNyTU+vSvAu643J9YfZYzWxXHgodmj6geK+fbxtNc+G5TnHheamylzJ0owAc2odbEUAAAQQQQKAyAlUvAA3VXtDy3j0Xh8Xmvo3FTi37/vXWr7Nq2vUJ/Xyhsq/yDmWx8jVl6EYBOLQPtyKAAAIIIIBAZQSqfAjYF1+4zalNen/O1ZwP5xab189f8BFu9/3DWKFvqOlPczc+qPmPKLcp0xRfHFK/ad/kkiVLksWLF6epvxK9CCCAAAIIIDAeAkuXLk0ct507fXCwudvoz3UbW68n9HCXK1/KHnaSpr6C91yl3jmAT6r/GCUcBvb8vcqhSrFo9FXAJyu3K0O1k3SjC0DvRfQh5nxzX22vo/al9nSxGzCPwzwCCCCAAAJVFOjo6Eja2tJ9Rv4xmp1EVdyc3XpOVT4E7A26UjlPWaTMUD6neC/cDUqxLVeHv+LlMsWHb+dl8zdpmi/+vCdvuuI2RfGyC0u3/ZXFSrjK2I/718qNSrH4U1euUfvlMJhFAAEEEEAAgSoLVL0AdDF3leI9cGuU45VTla3KfGWTcqIS2pmaWas8rjyqeG/hWUpo3hO4TdmiuGRzweix/lJxc2H4GWWl4t8IXGj6sc9Whm4UgEP7cCsCCCCAAAIIVEag6oeAKwM1yBPpOwSsFbq6upLW1qrX1INsCd0IIIAAAgg0iQCHgJOEaiXim727x6cV0hBAAAEEEEAAgWoLUABGfH06uzojjsZQCCCAAAIIIIBAOQIUgBFdKQAjYjIUAggggAACCJQmQAEYkXbnLr5XKCInQyGAAAIIIIBASQIUgBFhd3XuijgaQyGAAAIIIIAAAuUIUABGdN2xa/A/FBLxYRgKAQQQQAABBBDYIwEKwD3i639n9gD292AJAQQQQAABBKopQAEY8XXhHMCImAyFAAIIIIAAAqUJUABGpN3VxTmAETkZCgEEEEAAAQRKEqAAjAi7YyfnAEbkZCgEEEAAAQQQKEmAAjAiLIeAI2IyFAIIIIAAAgiUJkABGJGWQ8ARMRkKAQQQQAABBEoToACMSLtrF+cARuRkKAQQQAABBBAoSYACMCIsewAjYjIUAggggAACCJQmQAEYkXbnTv4UXEROhkIAAQQQQACBkgQoACPC7uykAIzIyVAIIIAAAgggUJIABWBEWP4SSERMhkIAAQQQQACB0gQoACPSdnZ2RhyNoRBAAAEEEEAAgXIEKAAjunIRSERMhkIAAQQQQACB0gQoACPS8kXQETEZCgEEEEAAAQRKE6AAjEjL9wBGxGQoBBBAAAEEEChNgAIwIm1nF+cARuRkKAQQQAABBBAoSYACMCIsVwFHxGQoBBBAAAEEEChNgAIwIi17ACNiMhQCCCCAAAIIlCZAARiRlotAImIyFAIIIIAAAgiUJkABGJGW7wGMiMlQCCCAAAIIIFCaAAVgRFoOAUfEZCgEEEAAAQQQKE2AAjAiLXsAI2IyFAIIIIAAAgiUJkABGJGWPYARMRkKAQQQQAABBEoToACMSMsXQUfEZCgEEEAAAQQQKE2AAjAiLYeAI2IyFAIIIIAAAgiUJkABGJGWQ8ARMRkKAQQQQAABBEoToACMSNvV1RVxNIZCAAEEEEAAAQTKEaAAjOjKHsCImAyFAAIIIIAAAqUJUABGpOVvAUfEZCgEEEAAAQQQKE2AAjAibVcnh4AjcjIUAggggAACCJQkQAEYEZZzACNiMhQCCCCAAAIIlCZAARiRlnMAI2IyFAIIIIAAAgiUJkABGJGWPYARMRkKAQQQQAABBEoToACMSMsXQUfEZCgEEEAAAQQQKE2AAjAiLXsAI2IyFAIIIIAAAgiUJkABGJGWAjAiJkMhgAACCCCAQGkCFIARaTkEHBGToRBAAAEEEECgNAEKwIi0FIARMRkKAQQQQAABBEoToACMSNu5qzPiaAyFAAIIIIAAAgiUI0ABGNF1165dEUdjKAQQQAABBBBAoBwBCsCIruwBjIjJUAgggAACCCBQmgAFYERazgGMiMlQCCCAAAIIIFCaAAVgRFoOAUfEZCgEEEAAAQQQKE2AAjAibdeuroijMRQCCCCAAAIIIFCOAAVgRFe+CDoiJkMhgAACCCCAQGkCFIARabkIJCImQyGAAAIIIIBAaQIUgBFpuzo5BByRk6EQQAABBBBAoCQBCsCIsJwDGBGToRBAAAEEEECgNIGJUABerK1fqWxS7lQWKYO1ObrhOqVdWa9cq7QpoR2tmVuUVUq38nql2IYbo7h+73J3l4ekIYAAAggggAAC1RaoegF4vvjOVk5R5il3K0uVmUq95uJvP+Uw5XDlQOVqJbSdmvm28ialJ3QWpsONUVi9b7G7kwKwT4M5BBBAAAEEEKiqQEtVn1j2vJ7Q9HLlS9nyJE2fUZYoLtTybYEWliney/eQ4ub5+xTf9rSSb67WTlZuz3WOdozZuu/GcP/ph0xPtq3YFhaZIoAAAggggEAFBTo6OpK2tvQAoX90VPAplv6UqrwH0MXVQuWenIKvsnBBd1yuL8weq5ntSij+3P+A4r1+vm0kbY/G6OkcbKfiSB6adRBAAAEEEEAAgbERqHoBaIX2AsUGLbs4LLZ+e+NyN/r+9dbPrdI7u0djcA5gryMzCCCAAAIIIFBhgckVfm5hl+ycwnOcq+Xi4Vyv4vXzF3y4z833D2OlHUP82KMxOjs6k6VLlyaLFy8e4iG4CQEEEEAAAQTGWsCfz47bzp0+ONjcbSKeA+greM9V6p0D+KT6j1HCYWDP36scqhSLxsHOARzNGP32GLbObk26NvJdgLKmIYAAAgggUFkBzgFMkiofAvYb50rlPMVf/TJD+ZyyQ7lBKbbl6vBXvFym7KvMy+Zv0jRf/E3T8nTFbYriZV9c4jbSMWprF372dHEOYIGERQQQQAABBBCooEDVC0AXc1cptylrlOOVU5WtynzF3w14ohLamZpZqzyuPKp4b+FZSmjeE+jLdLcortZcMHqsv1RCG26MsN6AKQXgABI6EEAAAQQQQKCCAlU/BFxBsn5Pqd8hYO9P7NnJXsB+QiwggAACCCBQMQEOAVf/EHDF3jLDPB2fVUhDAAEEEEAAAQQqLlD1Q8AV5ys8vS79fbluqsCCCosIIIAAAgggUDEBCsDIL8j2nf4uahoCCCCAAAIIIFBdAQrAyK/Nlu2+voSGAAIIIIAAAghUV4ACMPJrs3W7LyqmIYAAAggggAAC1RWgAIz82mza6m+moSGAAAIIIIAAAtUVoACM/Nps3Lwx8ogMhwACCCCAAAIIxBWgAIzrmXRsHemfHY78wAyHAAIIIIAAAgiMUIACcIRQI11t0xYOAY/UivUQQAABBBBAYHwEKAAju3MOYGRQhkMAAQQQQACB6AIUgJFJN2/ZHHlEhkMAAQQQQAABBOIKUADG9UzYAxgZlOEQQAABBBBAILoABWBk0i1b+SLoyKQMhwACCCCAAAKRBSgAI4Nu2UYBGJmU4RBAAAEEEEAgsgAFYAzQyX2DbN3GXwLp02AOAQQQQAABBKooQAEY41WhAIyhyBgIIIAAAgggMEYCFIARoFumtPSOsm3btt55ZhBAAAEEEEAAgSoKUABGeFVaJ/cxUgBGAGUIBBBAAAEEEChVoK9yKfVhGnvw1il9jNu2swewsV9ttg4BBBBAAIGJL9BXuUz8bRm3LZg0dVLvY2/fvr13nhkEEEAAAQQQQKCKAhSAEV6VyVP7rgLZsX1HhBEZAgEEEEAAAQQQKE+AAjCC7eYn+v78244dFIARSBkCAQQQQAABBEoUoACMjLtzx87IIzIcAggggAACCCAQV4ACMK5nsnM7BWBkUoZDAAEEEEAAgcgCFICRQTkHMDIowyGAAAIIIIBAdAEKwMikO7exBzAyKcMhgAACCCCAQGQBCsDIoBSAkUEZDgEEEEAAAQSiC1AARibt3N4ZeUSGQwABBBBAAAEE4gpQAMb1TLq2d0UekeEQQAABBBBAAIG4AhSAcT2T7h3dkUdkOAQQQAABBBBAIK4ABWBczyTRNSDd3RSBsVkZDwEEEEAAAQTiCVAAxrOsjdSTJO2b22OPyngIIIAAAggggEA0AQrAaJR9Az23/rm+BeYQQAABBBBAAIGKCVAAlvCCrGlfU8KoDIkAAggggAACCMQRoACM49hvlLXta/sts4AAAggggAACCFRJgAKwhFdj3cZ1JYzKkAgggAACCCCAQBwBCsA4jv1G2dCxod8yCwgggAACCCCAQJUEKABLeDU2bKQALIGVIRFAAAEEEEAgkgAFYCTI/DDr2jkEnPdgHgEEEEAAAQSqJUABWMLrsW49BWAJrAyJAAIIIIAAApEEKAAjQeaHWb9hfX6ReQQQQAABBBBAoFICFIAlvBztG/hLICWwMiQCCCCAAAIIRBKgAIwEmR+mY2NHfpF5BBBAAAEEEECgUgIUgCW8HFs6tpQwKkMigAACCCCAAAJxBCgA4zj2G2Xbpm39lllAAAEEEEAAAQSqJEABWMKrsWPzjhJGZUgEEEAAAQQQQCCOAAVgHMd+o+zasqvfMgsIIIAAAggggECVBCgAS3g1urd1lzAqQyKAAAIIIIAAAnEEKADjOPYfRTsAO7ZwJXB/FJYQQAABBBBAoCoCFIAlvRJPPPNESSMzLAIIIIAAAgggsGcCFIB75pfee7/99hswygO/fiDp6Ojozfbt2wesQwcCCCCAAAIIIDAeAhSAEdQPP/zwAaOc9d6zkra2tt4cfPBhCUXgACY6EEAAAQQQQGAcBCgAI6AfeeSRA0eZ8i71bcyyIlm//tlk586dA9ejBwEEEEAAAQQQGGOByWP8eA35cMcdd9zA7Wpdq77ZA/vpQQABBBBAAAEExllgIuwBvFhGK5VNyp3KImWwNkc3XKe0K+uVa5U2Jd9+Vwu/Uvz32n6pnKHk251a8Dc5+zJeP6an5yiDtroFYLJ60PW5AQEEEEAAAQQQGE+BqheA5wvnbOUUZZ5yt7JUmanUay7+fEXGYYpPzDtQuVoJ7ZWacVH4CcW75y5UfJ+XKaH1aOYLim/fO5t+RdNB24tf/OJk+vTp/W/vdv05/s3nHeYvRvE85yKO/+vCM0AAAQQQQGA8BapeAH5AOF9UHla8V84F2xSluNdOXckC5Y3KEmWD4grso8rpyiGK2/uVW5TvKl3Kd5RbFT9OvrXkF4abnzJlSnLsscf2X63TOw7Ht7nQ88Un+YtRPM8FKeP7uvDoCCCAAAIIjLdAlQvA2cJZqNyTQ3LRdp9S56S7xBWYv2vlISW0BzTjKy9Cdebpf4cbs6nHL47ngnCd4sLzUmUvZcj22te+tv/tO3yEeXybLzrxxSdJskLZmIULUsb3VeHREUAAAQQQGH+BqheAFmovMHnvnovDYnOfq5xi8/3D+p4ON54PD79Q2Vd5h7JY+ZoyZDv55JP7377VOyyr0rzZ+VTlefE8EEAAAQQQQGA8BKp8FXA4hjqnADNXy08X+rzo9YsXfLjf9w+FodepN154LK//U//I2oOafkS5TZmm1K3qLrjggqS1tTVpaWlJenp8CqGa90VOateB5uLDpbfyAwEEEEAAAQTGUGDp0qWJ48bXsiXJqM51G8PXKTyU/57a5cqXso5Jmq5SzlV88Ua++RzAJ5VjlHAY2PP3KocqLhq/rnhX2O8qoX1HMz7c+77QUZiepGUXgL6fy7p8c99GtWT27NnJS459SfKr+32BcdbafqBbT9FCrTYN64Wby576gg+f81erf/1U3cbnudQem58IIIAAAgiMv0Df52O64yi/E2j8n9wYPYMqHwI2wZXKecoiZYbyOcV74W5Qim25OnyBx2WKD9/Oy+Zv0jTsMfy/mv9t5c3KZOVtig/x/oPitr/i5XCVsR/3r5UblWLxp67+7S1nvKV/x9Q7+i+zhAACCCCAAAIIVECg6gWgi7mrFO+BW6Mcr5yqbFXmK5uUE5XQztSMv4H5ceVRxXsLz1JC+5lmvM4XFFf8n1XeqdyruE1XPqOsVHy7C00/9tnKsO2D7/1g/3V2+a40BBBAAAEEEECgWgJVPwRcLa2Bz6bfIWDf3DJFpJ3ZilN08fAu16hOm48Vp4eKs1tLn/Tt4vYpkBwCLh2cB0AAAQQQmBACfZ+PHAKeEC/YRHiSM/bzkeqs7fJXwfwkLDFFAAEEEEAAAQQqIVD1Q8CVQBrNkzjwhQcWVvdpjDQEEEAAAQQQQKA6AhSAkV+LBYf5YuR8u14Ly/Ido57nz7mNmow7IIAAAggggMAQAhSAQ+Dszk0vPfKlhbt1adkXEu9e48+57Z4b90IAAQQQQACBwQUoAAe32a1bXnX0q+rc75t1+kbWxZ9zG5kTayGAAAIIIIDAyAX8XXi0iAKvOeY1ta/X7skPGi4LzveNdt5X8YYreUd7X9ZHAAEEEEAAAQT6BNgD2GcRZW7OLP3pt0HqtFtvvTXKYzAIAggggAACCCCwJwIUgHuiN9h99fV/va2176sWlyxZkmzYsKH3JmYQQAABBBBAAIHxEKAALEN9Sm7QqX0F4MqVK5MPfrDw10Jyq47lrL8EMx9fbEJDAAEEEEAAgeYQoAAs43X2hb+hbe9OktYTwlJy/fXXJ1/72td6l8d+xoXe1GT+/PlJW1tbbw4++LCEInDsXw0eEQEEEEAAgfEQoAAsQ91/RTjf9vWfMO5r3gt411139XWM6dxOPZqzQvGfiHNWJOvXP5v4imMaAggggAACCDS+AFcBl/EauwCcpuzIBp95XzrT0tKS9PT0JLt27Ure+ta3JrfffnuyYEH/L46eOnVqMn369OyOo5t4D16+iPMh3sEbVxUPbsMtCCCAAAIINLYAewDLen3n6mrg0LoeTuc+/vGPh55kzZo1yTHHHNN7CDYcjh3Nodj8OXyrV69OfN8wjqc+zEtDAAEEEEAAAQSKAuwBLIrEWp72Qo10T220dc9qOjm59NJL+43e3a3zAxPvAfx+Nu3Qodj56V68ofcC9p3H12/AdMGHdsP30KzU/EsGrjIOPcW9k34Ke7K3cxw2gYdEAAEEEECgYQTYA1jWS7nz1L6Rt+lboef6y6BdnK1VTuu7LVmu+Tcoy5Ra4Zbfs1f/MG698/hqexlrY4TDu3trzPFvLv6Keye9h3I0ezvHfyt4BggggAACCDSOAAVgWa/l2jN19W9u8LS28499lX9TfksJbZVmTlKWKv2v0B36MG4o9DytRrGnJzKg8efsBpDQgQACCCCAwLgKcAi4LP5dByTJ/rOSZPXm2iPkvxomvULEXwVzeO7RfTXu7ys+LOy9gm2K29gdxi3ubdzdQ7TFw71944aCtbZl/EQAAQQQQACB8RGgACzTfcbRGv3u2iOs0aRVxWC3iyA3Xybs9j7lq+lcrfjz7DnKVcp+ylBX8urmKK3+OYVz5x6QPPLIA71XJY+kIAyHe/21MjQEEEAAAQQQqKZA/iBlNZ/hRH5WW8/qe/b+Spj9/7FvuXfui5r7kpKvxW/R8iLlu8pYtHrnFD6a/tm6Aw44oPfK4oMOWpj4auP8OYrt7e39lteuXZt+p2D/7xkM5yeOxbbwGAgggAACCCAwnEC+6hhuXW4frcCa9yTJzA8kyVYf1lWb+i39uMhzueY/Ffch5Tjlrcpzipt3GZ6hnO6FMWr5Q7Te8+jCMFxVvFoF4aLEBWG+tbRM03cbhi88zN9SHCt/G/MIIIAAAgggMJ4C7AEsVV/19bwj+h5h3f9qvl6x5FVOUJZ6ptBuypav0HRX4baxWAyF3HQ9WCgIfb6i83BW/OX/qgh7+8biVeExEEAAAQQQ2BMBCsA90RvJfXfpauDQtmhP4EFfCEt1pr5C2O0flXARSNqhHxcqPix8vZLtUdTc2LdQEHoarjyu17d7z8znEOYPMXvefTQEEEAAAQQQiCdAARjPsv5Iq85Lklk55tZwwUf91Wu979DkV8o7Cys9quU/UE7N+vX9gg3UwgUk+b9mwvcFNtALzKYggAACCFRGIFeZVOY5NdgTmaqv/ntZ3zY9o691mflA3/Kgc8/TLd9Q/rXOGi4O3U5UrlF8aHZitvzevvoXkKxILyrJ/43jibmlPGsEEEAAAQSqI0ABOBavxQbtBQzNR2/3OycsjWD6qmydKzU9tLD+L7XsK42fr3ylcFvVF/u+eibs8ev70uv8IWXP0xBAAAEEEEAgpgBXAUfQvOaaa5IZM2akI23btm3giB3aU3ewuv2dzm7P/kRXBD8zyh1379Qd36P4C6Q/o6xWQvPAn88W3qupryo+KVuu6sR7LcNFJaHI83bU/9vF3lOYb/47yq2t/X9/Gcn3FObHYB4BBBBAAIFmFaAAjPDKf+xjNyQtLTXKHTserD9i/iitLwQ+9Nwkear+qoP3+sujXdwtVl6o+ArjXyv55kPGzosUf41M1VvY2+fn2b/Iqz3zvj2F+S2p9/Uz++xzYLJy5ZO9X1ydX595BBBAAAEEEOgT6L8Lpa+fuVEIbN16Q7Jly9I03d3hAo3CAGu0fEDY06X5Z+5Okr0K64x4cXq25s80vUn5rWw5P/lfLXwh63iDpl9W8nsNs5sqP8nvKRzq62c4V7DyLyVPEAEEEECgMgIUgGP5UnR/ru/Rdml2n77F3Zvzy/c7yh3KnYpbvUFdKH5YOUh5u+L2ZG0yYX6GPYWe1vv6mVxxPWG2iSeKAAIIIIDA+AhQAI6l+xpdsDH/0L5H9PcnP++v+pb3aO4F2b0f0fSbyhuVSVlfmHRp5qfZwrGaHqX8pfI/Wd/En+SvKuY7BCf+68kWIIAAAgiUI0ABWI7r4KO2X68LQHI3d+gw7fRHcx17OuvzBP1dgf57wqGwe9Ugg/oq4kuUt2S3/6GmPlTs8wp7sr6JMuk7VzBcVcx3CE6U147niQACCCAw1gIUgGMtvknF2IHv7ntU/3WQOeprcQETu4W/LLJUAy9T/lY5QRmsfV83+FCxLyA5PlvpG5q6QK16QbhTz9HJ/1k6zgsUCA0BBBBAAIEBAhSAA0jGoGP5P+l0vFCc6fGeXZ8kC1xw+UsCy2o+9Pznyr9kD/BVTX9PCefTZd29E38li9uHlCOUl3lBzXsI71F2eaGCLX+u4MjPC+RP0FXwpeQpIYAAAgiUJkABWBrtUAOLff13kyRfnzx1n74a5veHulPk21z8uRhcp3wnG/uVmhbPG8xuStZmMxdo+puKn3w4dPzPmvdfJ/E5htVrw50XyJ+gq95rxjNCAAEEEChXgO8BLNd38NG3L9SfhNPNPh/QRy7dnvpJ7Y99PFXmnsDaQ/X9nKLZV2SLP9DUh3p/pNygXKW0KPUO//qQdTjH8BzNu81SFqVzSfItTV1Q+nDyeDU/x6lJ318YqT2P4vcF+s/MrV//rG704eNQlXeob37iP083e3bo02hTp/I9gzVGfiKAAAIITGAB9gCO54u3Xg++z6VJki/D/eXQ81+uumvrOD2zNj3u6cpns8f3E/p35U+z5enZtN5kszp/lt3wPk2PVvxlh6dkfX+jqcd6WqlXVGarRZu4snYGnhfowi6/Z7D2kC70QlyZ14pHLiqp6fATAQQQQKBxBPKlR+Ns1UTakmc/qK+CUTG0+oK+I6grHk+S/Q9Mkm23JsmmBeO8NS4IT1X8lTF/r7iYekzxeYA/Vv5NGWwvoW5KOpVHPKN2Ufqz9sPjun1IeanyYmWOUkYLRZ3Hrr9XcOCj5otH39+t/l5B/ixdTYefCCCAAAITR4ACsAqv1apPqOBTQdTxYdUn2Z6x1ZuSZNqrk+SQd9d2mFXheabPwXvGXpXFf2rOBaCLQhWtyc+VHyn+6yRDFYW6OfFf9XD7Rm3S76cPSR+puCjcL7vlGU1nKXu607peYbdS474ke5ziZPjikT9LVzRjGQEEEECg6gIUgFV5hVZrT2Cb9oBNf2eStGdPaoeKwaev1tfGaHnb7aqZwkUXVXnS4XnsrZmTsvjiEheALqpcGD6o3K18XZmrbFCGa7/WCs6NuRVdEE5TDlMOzvqv1NTnHD5fcWE6mpYv7DpGeMf6xWNPj4tHb2v/PYU+t3D69KEOmY/wYVkNAQQQQACByAIUgJFB92i4jSqipmiEBS9IkuXeo5a1ZzVt1d62BSo01l2VJFueF26p8NTn/vlqYWex4gLwSWWL8oByl/J5xV9/40PKa5Th2g6t4MPJjpv2nA5o/0c9LhLnK6Egu1fzLtLC3kTN7lGrVzzm+0Y+uK9AdqGYb1xoktdgHgEEEECgDAEKwDJU92RMf73echUsh3xaO8uuUL3UXRvNk+UP61taVFAtOMKno/XtKaytMQF++rDwQVmO0tQF4K2Ki6d1yn8qKnTT7yt0sfi/igthn0c40ubD0E6+vS5b8B7E52XzH9DUew5dKLrqdlulzFTi/LPwRSb5VizswtfP1K5A7ltz7twDkkceeaDf3sPiffvWZg4BBBBAAIHRC8T5pBv943KP4QSe/hsd1TxXXwvzxlrhp6PBaevSz+U+PKr2vIXaM/he1S2fLPc7pNMHK/uHvxhbVz+n7TP66aLQbZniPXo3Kd4V+oTykHKz4otGwvFyzQ7bvAdxWbbWN+us/WL1+RzD/ZWwt/DPNL9QceEYDjMPVyhuT9ctfv1MsbBzgTjw62dWJxs2LEoOOOAAjdHXil9d03fL8HPsZRzeiDUQQACBZhOgAKzyK75zgb4bcKnqHO2l2ltZ4fPMcm2Vz6f7ok6NuyxJDtDeLNc3q1V89ITiKbfuhJ0Nb9HXagvCdj2teReATymuiF0U3qN4r977lOeU5coyZTQFolZP/xqLC03H7erapN9PF4otyj5ZfONZivduunj0HkUf1v035VBlXrq8YcNLBxR2ukHN2xW2zXsNfV+/1n19u/udhIPtZdyTglJPjIYAAgggMMEFwqfrBN+MBn/6rmHatddrn9t1Iexf6PqKR/u+Msab7otFwjmD07TnaH8XHW/SaXW/X/vWE6/TsG2utuw3FO8xcwGoYri3cHKhqMI5LQ5dLLsolGP6N5Ffq+kzykplqzLaJvP0sLUPXbt9tzbp9/N3c0v+p+ZD2Ucqfq4uCr1H0Xsiv6K4ePRe0HC424XtLMV7JEe2R1ErDvii6qG+5Dp/kQp7Ca1HQwABBJpHgAJwIr3W69+iPyGnzLhTRd7rVBTq5dsYCoZsQ7wXcIX3jF1Zi2uKWSeqYHyD7vse1Tpt6mi2doQ2OOxNc1H4t4oPKbvPhdwjii8S+Z7iPXDPKL9Wvqq8WlmtuG+zsrstvE6/0gBOvn0sv5DNL9TUxZ8LXD9P7xX0BS4+NO09j1N0qPhLA/YotrXNS+6//+fJnDlzkpaWlvTLrrWymscIBmlH7w/2EvZSMIMAAgg0jQAF4ER8qbcdXjv66Stn9/uWrlv4e9Uov9RXxbiYKTTvoFrnvV7O5aoB9JK7Dpj0Nu05PEUXmrxdUx+ybNbmQ7n+Ghu3k5RQJLlQdAH4/VyfC0XvwbtZ2aK4MHxM+TvlNMV7Gd3nbFT2tHVrgPQFzAb6j2EH3LhxbbJw4cI66+kXh3Svo38BmJHefsUVV6QF5JQpU7JzEX+ofu+JtEe3+hbyp/BSKX4ggAACjSdAATihX1PtIVrzJ9oCpUWFyP4v1Gf7y/XXQx7U3j7vCqzTOrQnyju5ktuyaO/T3pNqRxun6rBo99EqCE9Q/XKUpnXu39RdPiTr9holXyi6ALyu0OdDz97Tt01xQeji8SNZ2jV1YeeLSX6uzFNcPPqwb1ntjgEDX3jhhYU+/UJQaMULWaZMmZacfvppif883t57753G8/vss0/6N5ND37Rp0xJn1qxZ6TouMvmLKQVcFhFAAIFxFKAAHEf8qA/dM71WZyT/oWFVnOx9ly4e+ZIKw3+pHSp24TdY26TCY5NvvC/LNbU1Z2qyl/YITVeB0rpf7WjpDo25VXvKNr98bP6cb+2ZTNCf3psWCsVFmncBeHGuz3sZ5yuPKy4u/SI8pLxa+bbic/9cKC5TLld+T3H17j4XlT7UP7Zt164dybe/7ecWp7mgPOOMN6fF41577ZUWjJ4OFReV4fYZM2akh7rjPBtGQQABBJpHgAKwUV/rTSoiNi3U1qkAdMEw639VEH5Th37v1J49FXre4TTcHj5fG7HVhzqdUGz8pebVWpRZ2gPpo4lTX6SvzlOB6MOH3fsmyS7Nbv+B7vubOnXtEC3Qhhfw+X4+PHtoturJmobi0YWiC0Afks73uXhcr/jF8CFnvcbpl27rdU5fBO9pXK78tfIuxS+o+3TqQPoXWnwuoe+nXwDGqbmg/Na3vrXbj+7zHGfOnNlbEIbC0FP3Oy4S83Hf5MmTE++VdL//Wov7vMfSUy+H9WfPnp3MnTs3XfZ93LhgZrdfLu6IAAIVEqAArNCLUepT2fwK7bVTEhcTLhxUAc6+V/meisKfqgZQtk5TfaCq0KeeDdd8uuFmrbjZKz6b5UEvZO3ttamOLifTVdxoB2UyZaGiAqZ1jha0x8tjdF2oWkWHrjsPVkE6tVaUdo7kCei+NAkY2EWhTT3vpivA+xWKLgC/XOjze+BJZW/l18qLFb0H0quQvZdxmfJB5RLFFb33Tvp1/oZyquJD217PBaXHGZ/W09OTbNmyJU3Zz8AFoAvETZs2Jz09/d+jkydPTU499Q1pIRqKSq/vuKAMX+Tt+/swuftccI506nVd7NIQQACBWAIUgLEkJ9w4Kso6Xl9Lb1Gow4otKsLm3KFDvzdrr96VKtJUGOxaq8977SnapEJgtDuLvL7/mskWA3m3oxP2JrrvCv/o31rnqmDUh91UvT2nKH6XTnqJCkcVOi0udqbXiseec/V8DlDBqvW7tD2uUzrv0fRw7XlUvwtM2jACLir2ytY5UlP7uj2tuAD8kJLv+4aWvVc53+dicoUyU/FvBI8p/0e5TXGh5OJxmfJR5VOK3xReT++r5J+V/sWUOirZOjs7c1dV93+KnZ07k5tv1r+ZElsoIkdaNIb1XDz6vk5+PvQVp6NdZ9Kk8ItHiRvP0AggEF3AH600BPoEfC5h+xuVl6pPBWDyM8Uf9i4I9EE/63bVCw+pOPulCjJf2PAjFV0HquDSB/p27RXaog/3Pf089/23qnrb6orOcVuZJV3Ifnw9v5DNn9zX53f3FGdfFZFamKyFSZr686rlGGVGLekhVN/t91U0ak9ajwoiF49+Ht0qULv2V9Tf1VmrXTqf0NNaUOvz3WgS8HvE2UdRMZ62V+hnvlB0Aejk+67TsovH0OfXWcV+b59fiMeV31AeUDy2f5tYprxD+bLidXx4+xnlb5U/VvRapXsp/QvHD5XjFb+X9B5NC9LlmuoXh3TZ51pWv/l7G53inxgc72fe2traW2Dmi8nRFJLeU+pD8iNJ7HUpYMf7HcTjj5eAPyJpCIxcYLM+iDe/Llv/aU1VFKbnnoUP8GXaEXSY8lUVXvpAnqx1Wp/UOtob1PMCfS5v0uewPsB36FDzdn1I79RNZTXXAGkdEGbyH/TL6jzqv9fpu7BO33F9ff4X5ExSMTFJxYk+DJNJ2qvmOqX1EBWYurFVaVGHupOWY5Vpiva09rbf0Zz3wnnPpqpO1zM95yttivaqdQsp7fu65vU4LtK7VXC7r+u/NHy+SWsAABJ0SURBVL+f5lXMdrVr3n0y7vZ4rnQnQvN7J7x/OrInnO9TAZ62Q/UzrHdQ1veuXN/TmncBeHmhz+/RW+v0Lcv6DPmYcoTyK8VuLhSfUk5Xrlb84vn9s0r5dBbfz+utU65SjF9s/kXK7z/ft3Z/Hwbeofd/V1dXceUJueyru31epDMRmw+t72lR6fsX48Ky2OflqvS7cOe0gon4jo33nP3RRUMgooDeUt4Zs/X39CN8WPuD2R/C9w7sm6QP2emr9efsVqiQelj5pD5//0iftyoEWrz3Rrf1aI+jD/V2qWjURQPaDaLow9PFoz+Dx7P5s92p7S4sPBMVYgPakwN6kuTHdfr+sU7fuXX6frtO3yG1PtcsrmXSYnSOpupIi1NNfVurCisXrD63zOu0LFD0+qXFarZOy1G6YYr6PFCG3XKC5l3Aqq9Fr0Pa7eehwjathlMQzZ+puKjV/UOl37NEyzO1rL4eFU/pff9KU58TqjF7ssK251rN6/2T9um94Nqq5w5NXQDrcXrWK+rrflzTfTT1eDqk7D6P0a3HTZ+LJsM2Y6iATttB+hnetxo3bW/J9fm9/GlF29G7nvu+rqzI9a3U/EuUu3J9qzU/P9m61f9Aiu0eddhU7+/0wp3f1fRbit3dt0bxY8p7QHt/1uP32zeT0047Teco9qQF2bZt25L//u97ks7OsCc9f2dvn18r/0PyYxiv+Zqtdu3alabZtn6kBamL1t1JGH937lvvPjHHm6i/sMR8j+p/+8q3i/UM36v4f+X/UT6k/FKp1/Qplx4TepOm/sj4vvJhZaMSmv9n/ayiT7tkmfJJ5QYltJGMEdZluqcCPrS6RS/FlpdrpFcofjn+Vgkfwv5wna/8uk6fCkR/Pk59Tp/1D6qmeLumf6O+LSpo2hV9ILf+i1Z4veI9Nerv7tDn3DJN5yn68OvSB2N6aFcfgJ2qgjr1IejU+5zVCBOq+fPcn+9p84KTb/7Qz7f8P5PQL8MB7ZcDepLkv+r03VSn7//V6bukTp//2RbbW4odWn5Znb6D+/elxW2bilV1O15288VIaZ9/eFlpcVGkZRfLbuntKpRdJIeLMNI+PYYLZa/Qkrn6tAIPkhbQ/u/H7UVa9n+z7nefi61Dsz4P5L4ntHy2pl7Pb+jwon0x6/PjuIDzm/J4RcVu+mT9+v1E0f3T4tHrtCQ3P3hz7aX28G6uaRPbTVM0vgvv9L+80zV1ge4VNVbP1zVV8+b4abml8+/SjIrTbi+oyOz5N+Udiotur6iCtvvG2spexXFL59+gqZ5/up7+/fl90qNtSB9T25n+EqB/uy6W0/t5G2XU86SmuRbGTPeUex0bBafcesyOSsDntTreI01rPgH/j1Pldr6e3NnKKcrjyqeVpcoRSr1fo69Tv/5XSg5T/L+aP/2vVsInxys1f63yB8r3lDcrvs+rlXsVt+HGqK3V9D/9MiwaZwV9sHSpUNymD/LeCxneo/l88ei3wA2Fvvla9tspv577NuT69KE6+QV6N/23pvqgmaTbJqmv80+1s+hizes/zJbNyrOK9tS0+HeOLkX96dWx/l3FH2rq69EHc/pBt0oflPvW+rrV7wK0Wx/G3nvVpQ/SLn3KpdNsqN4PPS3Tdl/ANUrdFoDD1Cv5NSw2v6bFptd+QFs/oKd25XSx+6lih5brFdX31FnPBV+x/bDYUWf5u3X6rqrTV6/rG3U6/e9qJO0HdVaqtw0P11mvXpeLyAjNnw5uYRrmw1sh35+uWPjh271umIabi/cL44Xbi8vuL/YVl8N9mSIQWaDqBeAHtL3+NTj873Ch5v9YOUNxoZZvC7TwRuVoxZ/kbh9V7lMOUZ5W3q/cooT/Db+j+VsVP877lEOV4cbQKrRaHT7eBWCZr4P2eKg+SzpfpB/5QlEF4MaPFPpUAOrQW//15mvZH3T5+7pPReSAPh26HNCnvXE+T3CS9lhO/rV2+LxGuV19k9SnorF1ueb/RNMva6pPnRYXpM9p+QuanqtoSPf5n0LLPyv+J+OmvSvpRRA/1vR4xdWRP1Qf0geRt1XLadGq+/as1PL+muoTaeMmfWPMNM3refXsXetLz1f0+jr3Kz1Uq/W8l8jru8BN9/yEvtrQ6cP5IWkIjKeA3pZpC9PxfC48NgLjJFDlAtCfnAuV/K/B+lRJC7rjNC0WgMeqz2ch65Ostz2gOX/i+TYXgJ7+i5JvHv9tWcdIxsjfl3kEyhPwxR6djt/Cbr+h5AtK972r0KcCMLmo0KcCMLmq0Odi1L/7eDz/0/Cy9nb2G999j2Z9S1QnKul6Xj//PLzemjp9+T2q4TFUQKb3VXXd+pgK0yM1fURRsduq7Wx5StPFmi5VJmtehWjLKkW/97V+Vfedonn3qdht+ZRysaKi2HvuWtYrf6f5P8/6XGn6OVyt5bM11XotrupVzCbf0fwZtSLV5zGmRbD3pJ2stCi+71Z9z/ZPdGHzq7I+r+f/YvzfylG1vvTQpl8fO71A42mS/lBfj7f5oFzfLs2r2O/Z1ytp6sfQmD0diopq38/Fc9qvIt+vv1s6ptbt8Zja/tDndf1bSo+3X633vq21+bQv9HtBzXcpJt/veRoCCDSFgP6HrWwLnzDthWeY/1TJ3+T1/elSbL5/GMvTocbz/8LDjVEcX8sfVfQBptbdfXc6rX1tif5jT5s+wNK2Uj8nal9xG/whWuzzRtI38QxG8pqV8Hp3e0w1H/ZOz9xwcTPXPWrzFf9zdJtXmyQnahr6/Jw/pby90Pd3Wn5/oU8FYPIXhb7vaPnzhT4XgFcU+n5T9eLXB/alF2jkn4vWS88qKfbdVue+/1mn72d1+u6t03d/nb4Hsz6b+Hn4d+Di83h4hH2+717KZ1QHv1vT12mq/9PSr0xSsZoW47+jqX95mKmpClCfBpH8oaY6NzC9wt2F8mrlT7QsuxYVsun5j+prWaL+v9d0mqYuxtdr/pOaXqqpX39Xp+s0719k1J/2+XH937Zfm3M174+tbk39f+lXlXMU/f+bPob7rlHeo2i89PxM912vvEvRfd3nC4Vavq3l36v1hYK//Sa9Bd+iPhfVfi7eO65fRpLfVnxfPa5/Mei5XfMnaz6s518Mfqz8Vtbn9VTEp1+ufkLW5/G83s+VVyitivtU2Pfu13Cfm37JSV/Hl2jqX0j0y0N6HrR+Yep3v8e0fLiGCWN1avlJ5flKaL7vCq2zQFOP5cf0es8oBynqa5dv2yzN6xer5IBan9fr8Xp6PZJ9sz5NfIQg/cVK/1Y9VNq8vRu17I/Y8Bjuk3P40n/N1e5gU73H0vNA3ef1bDrTC1lzn6zCL0Fprx9MLj7a0Nvc5+3LWu/z8bJer95lz+h59/6ypEX/orW5dwXfgVYhAb+T/C54ZeE5+V/jZYU+L56u6F00oPlf3Juy3ns1/VhhjU9o2f8i3YYa47TaKv1+Hqwlv4MIBrwHeA/wHuA9wHtg4r0H/DnelE0lcmWbf21bpvhXJf967OZft45TrvFCod2nZf9aeZTiX2PdjlH8a+X9XlDzOh4v37z8i6xjqDF8W7H5V6hDlGxXRvFmlhFAAAEEEECgogJ763n5c5xWQYHz9JyWKYuUGYqOE6RftpXfV6yu3vY9zd2qeH/1POWHyg1KaN6b6L2Eb1Zc/L5N8f7olymhDTdGWI8pAggggAACCCCAQEkCF2ncVYpPJrhTcTHoNl/ZpJzohazN0fQbSruyQfGeQh9KzjcXfb9SXAg+rLxFybeRjJFfn3kEEEAAAQQQQAABBBBAAAEEEEAAAQQQaFSBi7VhKxXvibxTCXsnNTsh2zv0rH+s6HKu9BtxWwtbcbSWf6R4b+zTyqeVYptoJj6t4AHF2+zX8puKz+vMt0bc7k9pAx9TvLd8tfLvyjFKvjXidue3z/M+RcQXm73eC1lrxO32v1Vf0ulzq/3/lafXKaE14jaHbfP0eOU/FG+3jw7dpYTWiNv+kDbO2xriU538Pn+z4taI21zbsvTLS9P/x59Vx3rlv5STwo2aNvK25zaT2TIFztfgTym+Tn+aconiomiw8xN1U+XbKXqGLgL/SPG1/vkCcJaWn1E+p0xVfLGNvlvAX7rW2yaiyef17H1h0WRltuIPxV8ooTXqdr9QG9iWbaS3fYni/zBbsr5G3e5s89LJu/XT5wz7vR4KwEbdbheAP1bqtUbd5rCtLv42KO9U/H+1/197heLW6Nte28ok+VPN+Bc9/9/d6Nvs7/f5kbKP4v/P/H+bC2Gf3tXo265NpI2FwBN6kA/nHshXKPtLlPyfzERvr9UGFAvAs9TnAiFfFP6Zlh9VQmsEk2O0Md72UBw1w3b7Q/Ej2Xbvq6lbo2+39/IuUzztVkIB2Kjb/Wlt42AFYKNuszY5bd7uL2bzxUmjb3vYXp/v7p0Ubo2+zfdpG13whraXZvxv3EX/u5Vm+BzTZg7f8h/mw6/NGkHAe4oWKveEDk1dNPiN571JjdhcGP1C8T+k0Lz9z1f8W1WjmCzWtjyl+JCwWyNv929r+zYo25TLlMuVdYpbI2+3t+//KZ9VvNc+3xp5u/1/k39JfVLxnu6Filsjb7O/PcLfxOz/t36mrFX8/9ZbFbdG3vbaFtZ+ufEe/69kHY2+zX+l7TxDOVCZonhHjXdUPKAcq/xCafTPMW3i8M2HfmijF3Cx49Zem/T+3KC5cFtvZ4PMeLvqba83z7eFXybqrTNRTE7WdlyohA8HzabbVm+bwm0Tebtv0UbMVeYo3iuQL4Ya+fX+oLbVzUVgsTXqdv+rNvTrik/beJ7yReWHiouBRt1mbVp6GND/Rt+tvEm5T3mzcr3yWqWRt12bl7YP6KdPdVheW2z4bf4vbeeZik9Z8nmv6xUXhDuUZni9tZkjaxSAI3MqruXzCdz8wZlv/jDNf4jmb5vo897mgwsb4e11822hEJqoJqdpG65V3qn4gzG0Rt9ub2e7coXiX2B+rTyoNOp2P1/b9knllUq91qjb7UOAoa3SzHuUjYr3jjXqNmvTer+k/580f6871G5Q7lBcCDbytmvz0mLf23m6F7LWyNvsc/782t6p+PPJFzz5/3Zf5HaS0sjbrs0bXQsf2qO7F2v7TbRMCScSW8TnAB6n/MILDdj8m7O3L/+e+U0tP6H4quCJbOKiz8Xf25WblHxr5O3Ob6ffvz5c4kNFbo263a/Rtu2j/I+yJosmiU8c9yEyb/fLlEZ8n2uzBjR/YDbqa+2N9f9Lj3tmkNbI2+5Nfr+yXPEewNAaeZtd9B2mXKFsVLqVmxS/B3x6TyNvuzaPNlYC5+mBlimLFJ9ncqmyQpnIVwH7Q2+a8galK9sWL/tDYpayUvmsMl15qeL/WP5cCW0imvj8EB8iODFsRGHaqNv9Z9rO/bNt3U/Tf1TscEDW16jb7ffuQYX4Q8LF/xylUbfb2xcu8PFrfI3iX972Uhp1m7VpafN73YcDj1H8f9npylbl5Uojb7t/qfMRKf+/nG+NvM3ezocU/3+2t+LX+zRlm/I6pdG3XZtIGyuBi/RAq5TNyp2Ki8GJ3M7Sk/eHoYs/J8yfpHm3o5QfK1sU/4d6oVJsF6ljIpl4G31uiPcUOD5k4Gm+IGzE7f6ettGvk7fXhf13lZcp+daI253fvjDv9/rrw4KmjbjdN2q7nlP8f5V/Ub1Oeb4SWiNuc9g2Tz+mLFe8V+jnymlKaI267W/VBrrQ3SdsaG7aqNvsTXyBcoPi93u78qDyx0pojbztYRuZIoAAAggggAACCCCAAAIIIIAAAggggAACCCCAAAIIIIAAAggggAACCCCAAAIIIIAAAggggAACCCCAAAIIIIAAAggggAACCCCAAAIIIIAAAggggAACCCCAAAIIIIAAAggggAACCCCAAAIIIIAAAggggAACCCCAAAIIIIAAAggggAACCCCAAAIIIIAAAggggAACCCCAAAIIIIAAAggggAACCCCAAAIIIIAAAggggAACCCCAAAIIIIAAAggggAACCCCAAAIIIIAAAggggAACCCCAAAIIIIAAAggggAACCCCAAAIIIIAAAggggAACCCCAAAIIIIAAAggggAACCCCAAAIIIIAAAggggAACCCCAAAIIIIAAAggggAACCCCAAAIIIIAAAggggAACCCCAAAIIIIAAAggggAACCCCAAAIIIIAAAggggAACCCCAAAIIIIAAAggggAACCCCAAAIIIIAAAggggAACCCCAAAIIIIAAAggggAACCCCAAAIIIIAAAggggAACCCCAAAIIIIAAAggggAACCCCAAAIIIIAAAggggAACCCCAAAIITAiB/w+SIz4QOekO8gAAAABJRU5ErkJggg==\">"
      ],
      "text/plain": [
       "<IPython.core.display.HTML object>"
      ]
     },
     "metadata": {},
     "output_type": "display_data"
    },
    {
     "data": {
      "text/plain": [
       "[<matplotlib.lines.Line2D at 0x112864978>]"
      ]
     },
     "execution_count": 339,
     "metadata": {},
     "output_type": "execute_result"
    }
   ],
   "source": [
    "%matplotlib notebook\n",
    "\n",
    "x_range = np.linspace(1, 800, 10000)\n",
    "pdf_range = ga_pdf(x_range, results_ga.x)\n",
    "count, bins, ignored = plt.hist(pts_sub, 100, weights = weight2, normed = True)\n",
    "plt.plot(x_range, pdf_range, lw = 3)"
   ]
  },
  {
   "cell_type": "markdown",
   "metadata": {},
   "source": [
    "## c)"
   ]
  },
  {
   "cell_type": "code",
   "execution_count": 340,
   "metadata": {
    "collapsed": false
   },
   "outputs": [],
   "source": [
    "def gg_pdf(xvals, params):\n",
    "    alpha, beta, m = params\n",
    "    gamma = lambda x: x**(alpha - 1)*np.e**(-x)\n",
    "    pdf_vals    = m * xvals**(alpha - 1) * np.exp(-(xvals/beta)**m)/(beta ** alpha * spc.gamma(alpha/m))\n",
    "    \n",
    "    return pdf_vals"
   ]
  },
  {
   "cell_type": "code",
   "execution_count": 341,
   "metadata": {
    "collapsed": false
   },
   "outputs": [],
   "source": [
    "params_init = np.array([alpha_ga_MLE, beta_ga_MLE, 1])\n",
    "# params_init = np.array([1, 1])\n",
    "mle_args = (pts, gg_pdf)\n",
    "results_gg = opt.minimize(crit, params_init, args=(mle_args), method = 'L-BFGS-B', \\\n",
    "                      bounds = ((1e-10, None), (1e-10, None), (1e-10, None)),\\\n",
    "                      tol = 1e-10)\n",
    "alpha_gg_MLE, beta_gg_MLE, m_gg_MLE = results_gg.x"
   ]
  },
  {
   "cell_type": "code",
   "execution_count": 342,
   "metadata": {
    "collapsed": false
   },
   "outputs": [
    {
     "data": {
      "text/plain": [
       "[<matplotlib.lines.Line2D at 0x11409f9e8>]"
      ]
     },
     "execution_count": 342,
     "metadata": {},
     "output_type": "execute_result"
    }
   ],
   "source": [
    "pdf_range = gg_pdf(x_range, results_gg.x)\n",
    "plt.plot(x_range, pdf_range, lw = 3, color = 'black')"
   ]
  },
  {
   "cell_type": "code",
   "execution_count": 343,
   "metadata": {
    "collapsed": false
   },
   "outputs": [
    {
     "data": {
      "text/plain": [
       "      fun: 82076.446472453419\n",
       " hess_inv: <3x3 LbfgsInvHessProduct with dtype=float64>\n",
       "      jac: array([-0.02328306,  0.09022187, -0.00582077])\n",
       "  message: b'CONVERGENCE: REL_REDUCTION_OF_F_<=_FACTR*EPSMCH'\n",
       "     nfev: 32\n",
       "      nit: 4\n",
       "   status: 0\n",
       "  success: True\n",
       "        x: array([  2.21753817e-01,   2.19110645e+04,   9.97649287e-01])"
      ]
     },
     "execution_count": 343,
     "metadata": {},
     "output_type": "execute_result"
    }
   ],
   "source": [
    "results_gg"
   ]
  },
  {
   "cell_type": "code",
   "execution_count": 344,
   "metadata": {
    "collapsed": false
   },
   "outputs": [
    {
     "name": "stdout",
     "output_type": "stream",
     "text": [
      "Log liklihood is  -82076.4464725\n"
     ]
    }
   ],
   "source": [
    "log_lik_gg = log_lik_trnorm(gg_pdf, pts, results_gg.x)\n",
    "print('Log liklihood is ', log_lik_gg)"
   ]
  },
  {
   "cell_type": "markdown",
   "metadata": {},
   "source": [
    "## d)"
   ]
  },
  {
   "cell_type": "code",
   "execution_count": 345,
   "metadata": {
    "collapsed": true
   },
   "outputs": [],
   "source": [
    "def gg2_pdf(xvals, params):\n",
    "    a, b, p, q = params\n",
    "    pdf_vals    = a * xvals**(a*p - 1) / (b**(a*p) * spc.beta(p, q) * (1 + (xvals/b)**a)**(p + q))\n",
    "    \n",
    "    return pdf_vals"
   ]
  },
  {
   "cell_type": "code",
   "execution_count": 346,
   "metadata": {
    "collapsed": false
   },
   "outputs": [
    {
     "data": {
      "text/plain": [
       "      fun: 76083.495670897508\n",
       " hess_inv: <4x4 LbfgsInvHessProduct with dtype=float64>\n",
       "      jac: array([-0.1193257 ,  0.        , -0.73341653,  0.61118044])\n",
       "  message: b'CONVERGENCE: REL_REDUCTION_OF_F_<=_FACTR*EPSMCH'\n",
       "     nfev: 185\n",
       "      nit: 18\n",
       "   status: 0\n",
       "  success: True\n",
       "        x: array([  5.98225208e-01,   2.22706162e+07,   1.37340161e+00,\n",
       "         1.00021686e+03])"
      ]
     },
     "execution_count": 346,
     "metadata": {},
     "output_type": "execute_result"
    }
   ],
   "source": [
    "params_init = np.array([m_gg_MLE, 1000 ** (1/m_gg_MLE) * beta_gg_MLE, alpha_gg_MLE / m_gg_MLE, 1000])\n",
    "# params_init = np.array([1, 1])\n",
    "mle_args = (pts, gg2_pdf)\n",
    "results_gg2 = opt.minimize(crit, params_init, args=(mle_args), method = 'L-BFGS-B', \\\n",
    "                      bounds = ((1e-10, None), (1e-10, None), (1e-10, None), (1e-10, None)),\\\n",
    "                      tol = 1e-12)\n",
    "a, b, p, q = results_gg2.x\n",
    "results_gg2"
   ]
  },
  {
   "cell_type": "code",
   "execution_count": 347,
   "metadata": {
    "collapsed": false
   },
   "outputs": [
    {
     "data": {
      "text/plain": [
       "[<matplotlib.lines.Line2D at 0x11509d5f8>]"
      ]
     },
     "execution_count": 347,
     "metadata": {},
     "output_type": "execute_result"
    }
   ],
   "source": [
    "pdf_range = gg2_pdf(x_range, results_gg2.x)\n",
    "plt.plot(x_range, pdf_range, lw = 3, color = 'black')"
   ]
  },
  {
   "cell_type": "code",
   "execution_count": 348,
   "metadata": {
    "collapsed": false
   },
   "outputs": [
    {
     "name": "stdout",
     "output_type": "stream",
     "text": [
      "Log liklihood is  -76083.4956709\n"
     ]
    }
   ],
   "source": [
    "log_lik_gg2 = log_lik_trnorm(gg2_pdf, pts, results_gg2.x)\n",
    "print('Log liklihood is ', log_lik_gg2)"
   ]
  },
  {
   "cell_type": "markdown",
   "metadata": {},
   "source": [
    "## e)"
   ]
  },
  {
   "cell_type": "code",
   "execution_count": 349,
   "metadata": {
    "collapsed": false
   },
   "outputs": [
    {
     "name": "stdout",
     "output_type": "stream",
     "text": [
      "chi squared of H0 for GA distribution with 4 degrees of freedom p-value =  1.0\n",
      "chi squared of H0 for GG distribution with 4 degrees of freedom p-value =  1.0\n"
     ]
    }
   ],
   "source": [
    "#test ga and gg\n",
    "LR_val_ga = 2 * (log_lik_ga - log_lik_gg2)\n",
    "LR_val_gg = 2 * (log_lik_gg - log_lik_gg2)\n",
    "pval_ga_h0 = 1.0 - sts.chi2.cdf(LR_val_ga, 4)\n",
    "pval_gg_h0 = 1.0 - sts.chi2.cdf(LR_val_gg, 4)\n",
    "print('chi squared of H0 for GA distribution with 4 degrees of freedom p-value = ', pval_ga_h0)\n",
    "print('chi squared of H0 for GG distribution with 4 degrees of freedom p-value = ', pval_gg_h0)"
   ]
  },
  {
   "cell_type": "markdown",
   "metadata": {},
   "source": [
    "## f)"
   ]
  },
  {
   "cell_type": "code",
   "execution_count": 350,
   "metadata": {
    "collapsed": false
   },
   "outputs": [
    {
     "name": "stdout",
     "output_type": "stream",
     "text": [
      "Using GG2 distribution the probability is 0.999806211381831\n",
      "Using GA distribution the probability is 0.9998829333345131\n"
     ]
    }
   ],
   "source": [
    "prob1000_gg2 = 1.0 - gg2_pdf(1000, results_gg2.x)\n",
    "prob1000_ga = 1.0 - ga_pdf(1000, results_ga.x)\n",
    "print('Using GG2 distribution the probability is {}'.format(prob1000_gg2))\n",
    "print('Using GA distribution the probability is {}'.format(prob1000_ga))"
   ]
  },
  {
   "cell_type": "markdown",
   "metadata": {},
   "source": [
    "# Problem 2"
   ]
  },
  {
   "cell_type": "markdown",
   "metadata": {},
   "source": [
    "## a)"
   ]
  },
  {
   "cell_type": "code",
   "execution_count": 351,
   "metadata": {
    "collapsed": false
   },
   "outputs": [],
   "source": [
    "macro = np.genfromtxt('data/MacroSeries.txt',delimiter=',')"
   ]
  },
  {
   "cell_type": "code",
   "execution_count": 352,
   "metadata": {
    "collapsed": false
   },
   "outputs": [],
   "source": [
    "def get_z(xvals, params):\n",
    "    alpha, rho, mu, sigma = params\n",
    "    c, k, w, r = xvals.T\n",
    "    z = np.log(w/((1 - alpha) * k**alpha))\n",
    "    return z\n",
    "\n",
    "def macro_pdf(xvals, params):\n",
    "    alpha, rho, mu, sigma = params\n",
    "    c, k, w, r = xvals.T\n",
    "    z = np.log(w/((1 - alpha) * k ** alpha))\n",
    "#     z_lag = z.shift()\n",
    "    eps = z - rho * np.append([mu], z[:-1]) - (1 - rho) * mu\n",
    "#     eps = z[1:] - rho * z[:-1] - (1 - rho) * mu\n",
    "#     eps = z - rho * z_lag - (1 - rho) * mu\n",
    "    pdf_vals    = (1/(sigma * np.sqrt(2 * np.pi)) *\n",
    "                    np.exp( - (eps)**2 / (2 * sigma**2)))\n",
    "    return pdf_vals"
   ]
  },
  {
   "cell_type": "code",
   "execution_count": 353,
   "metadata": {
    "collapsed": false
   },
   "outputs": [
    {
     "data": {
      "text/plain": [
       "      fun: -96.706908070814464\n",
       " hess_inv: <4x4 LbfgsInvHessProduct with dtype=float64>\n",
       "      jac: array([  9.49285095e-04,   3.97903932e-05,   6.39488462e-05,\n",
       "         3.59534624e-04])\n",
       "  message: b'CONVERGENCE: REL_REDUCTION_OF_F_<=_FACTR*EPSMCH'\n",
       "     nfev: 335\n",
       "      nit: 33\n",
       "   status: 0\n",
       "  success: True\n",
       "        x: array([ 0.45751568,  0.72048997,  9.52272852,  0.09199625])"
      ]
     },
     "execution_count": 353,
     "metadata": {},
     "output_type": "execute_result"
    }
   ],
   "source": [
    "params_init = np.array([0.42, 0.8, 9.0, 0.3])\n",
    "mle_args = (macro, macro_pdf)\n",
    "results_macro = opt.minimize(crit, params_init, args=(mle_args), method = 'L-BFGS-B', \\\n",
    "                      bounds = ((1e-10, 1-1e-10), (-1 + 1e-10, 1 - 1e-10), (None, None), (1e-10, None)),\\\n",
    "                      tol = 1e-12)\n",
    "results_macro"
   ]
  },
  {
   "cell_type": "markdown",
   "metadata": {},
   "source": [
    "## b)"
   ]
  },
  {
   "cell_type": "code",
   "execution_count": 354,
   "metadata": {
    "collapsed": true
   },
   "outputs": [],
   "source": [
    "def macro_pdf2(xvals, params):\n",
    "    alpha, rho, mu, sigma = params\n",
    "    c, k, w, r = xvals.T\n",
    "    z = np.log(r/(alpha * k ** (alpha - 1)))\n",
    "    eps = z - rho * np.append([mu], z[:-1]) - (1 - rho) * mu\n",
    "#     eps = z - rho * z_lag - (1 - rho) * mu\n",
    "    pdf_vals    = (1/(sigma * np.sqrt(2 * np.pi)) *\n",
    "                    np.exp( - (eps)**2 / (2 * sigma**2)))\n",
    "    return pdf_vals"
   ]
  },
  {
   "cell_type": "code",
   "execution_count": 355,
   "metadata": {
    "collapsed": false
   },
   "outputs": [
    {
     "data": {
      "text/plain": [
       "      fun: -96.706908028375949\n",
       " hess_inv: <4x4 LbfgsInvHessProduct with dtype=float64>\n",
       "      jac: array([  2.32063257e-03,  -3.41060513e-05,   1.30739863e-04,\n",
       "        -9.42179668e-04])\n",
       "  message: b'CONVERGENCE: REL_REDUCTION_OF_F_<=_FACTR*EPSMCH'\n",
       "     nfev: 375\n",
       "      nit: 37\n",
       "   status: 0\n",
       "  success: True\n",
       "        x: array([ 0.45748163,  0.72051423,  9.37091648,  0.09199619])"
      ]
     },
     "execution_count": 355,
     "metadata": {},
     "output_type": "execute_result"
    }
   ],
   "source": [
    "params_init = np.array([0.4, 0, 0.1, 0.3])\n",
    "params_init = np.array([0.42, 0.8, 2, 0.3])\n",
    "mle_args = (macro, macro_pdf2)\n",
    "results_macro2 = opt.minimize(crit, params_init, args=(mle_args), method = 'L-BFGS-B', \\\n",
    "                      bounds = ((1e-10, 1.01-1e-10), (-1 + 1e-10, 1 - 1e-10), (None, None), (1e-10, None)),\\\n",
    "                      tol = 1e-12)\n",
    "results_macro2"
   ]
  },
  {
   "cell_type": "markdown",
   "metadata": {},
   "source": [
    "## c)"
   ]
  },
  {
   "cell_type": "code",
   "execution_count": 356,
   "metadata": {
    "collapsed": false
   },
   "outputs": [],
   "source": [
    "kt = 7500000\n",
    "zt_prev = 10\n",
    "alpha_macro, rho_macro, mu_macro, sigma_macro =   results_macro.x\n",
    "eps_thread = np.log(1/(alpha_macro * kt**(alpha_macro - 1))) - rho_macro * zt_prev - (1 - rho_macro) * mu_macro\n"
   ]
  },
  {
   "cell_type": "code",
   "execution_count": 357,
   "metadata": {
    "collapsed": false
   },
   "outputs": [
    {
     "data": {
      "text/plain": [
       "0.99999996692678184"
      ]
     },
     "execution_count": 357,
     "metadata": {},
     "output_type": "execute_result"
    }
   ],
   "source": [
    "1 - sts.norm.cdf(eps_thread, loc=0, scale=sigma_macro)"
   ]
  },
  {
   "cell_type": "code",
   "execution_count": 358,
   "metadata": {
    "collapsed": false
   },
   "outputs": [
    {
     "data": {
      "text/plain": [
       "3.3073218170505957e-08"
      ]
     },
     "execution_count": 358,
     "metadata": {},
     "output_type": "execute_result"
    }
   ],
   "source": [
    "sts.norm.cdf(eps_thread, loc=0, scale=sigma_macro)"
   ]
  },
  {
   "cell_type": "code",
   "execution_count": 359,
   "metadata": {
    "collapsed": false
   },
   "outputs": [
    {
     "data": {
      "text/plain": [
       "0.091996246451262698"
      ]
     },
     "execution_count": 359,
     "metadata": {},
     "output_type": "execute_result"
    }
   ],
   "source": [
    "sigma_macro"
   ]
  },
  {
   "cell_type": "markdown",
   "metadata": {
    "collapsed": true
   },
   "source": [
    "# Problem 3"
   ]
  },
  {
   "cell_type": "markdown",
   "metadata": {},
   "source": [
    "## a)"
   ]
  },
  {
   "cell_type": "code",
   "execution_count": 415,
   "metadata": {
    "collapsed": false
   },
   "outputs": [],
   "source": [
    "usincome = np.loadtxt('data/usincmoms.txt', delimiter = '\\t')\n",
    "usincome[:, 1] /= 1000"
   ]
  },
  {
   "cell_type": "code",
   "execution_count": 416,
   "metadata": {
    "collapsed": false
   },
   "outputs": [
    {
     "data": {
      "application/javascript": [
       "/* Put everything inside the global mpl namespace */\n",
       "window.mpl = {};\n",
       "\n",
       "mpl.get_websocket_type = function() {\n",
       "    if (typeof(WebSocket) !== 'undefined') {\n",
       "        return WebSocket;\n",
       "    } else if (typeof(MozWebSocket) !== 'undefined') {\n",
       "        return MozWebSocket;\n",
       "    } else {\n",
       "        alert('Your browser does not have WebSocket support.' +\n",
       "              'Please try Chrome, Safari or Firefox ≥ 6. ' +\n",
       "              'Firefox 4 and 5 are also supported but you ' +\n",
       "              'have to enable WebSockets in about:config.');\n",
       "    };\n",
       "}\n",
       "\n",
       "mpl.figure = function(figure_id, websocket, ondownload, parent_element) {\n",
       "    this.id = figure_id;\n",
       "\n",
       "    this.ws = websocket;\n",
       "\n",
       "    this.supports_binary = (this.ws.binaryType != undefined);\n",
       "\n",
       "    if (!this.supports_binary) {\n",
       "        var warnings = document.getElementById(\"mpl-warnings\");\n",
       "        if (warnings) {\n",
       "            warnings.style.display = 'block';\n",
       "            warnings.textContent = (\n",
       "                \"This browser does not support binary websocket messages. \" +\n",
       "                    \"Performance may be slow.\");\n",
       "        }\n",
       "    }\n",
       "\n",
       "    this.imageObj = new Image();\n",
       "\n",
       "    this.context = undefined;\n",
       "    this.message = undefined;\n",
       "    this.canvas = undefined;\n",
       "    this.rubberband_canvas = undefined;\n",
       "    this.rubberband_context = undefined;\n",
       "    this.format_dropdown = undefined;\n",
       "\n",
       "    this.image_mode = 'full';\n",
       "\n",
       "    this.root = $('<div/>');\n",
       "    this._root_extra_style(this.root)\n",
       "    this.root.attr('style', 'display: inline-block');\n",
       "\n",
       "    $(parent_element).append(this.root);\n",
       "\n",
       "    this._init_header(this);\n",
       "    this._init_canvas(this);\n",
       "    this._init_toolbar(this);\n",
       "\n",
       "    var fig = this;\n",
       "\n",
       "    this.waiting = false;\n",
       "\n",
       "    this.ws.onopen =  function () {\n",
       "            fig.send_message(\"supports_binary\", {value: fig.supports_binary});\n",
       "            fig.send_message(\"send_image_mode\", {});\n",
       "            fig.send_message(\"refresh\", {});\n",
       "        }\n",
       "\n",
       "    this.imageObj.onload = function() {\n",
       "            if (fig.image_mode == 'full') {\n",
       "                // Full images could contain transparency (where diff images\n",
       "                // almost always do), so we need to clear the canvas so that\n",
       "                // there is no ghosting.\n",
       "                fig.context.clearRect(0, 0, fig.canvas.width, fig.canvas.height);\n",
       "            }\n",
       "            fig.context.drawImage(fig.imageObj, 0, 0);\n",
       "        };\n",
       "\n",
       "    this.imageObj.onunload = function() {\n",
       "        this.ws.close();\n",
       "    }\n",
       "\n",
       "    this.ws.onmessage = this._make_on_message_function(this);\n",
       "\n",
       "    this.ondownload = ondownload;\n",
       "}\n",
       "\n",
       "mpl.figure.prototype._init_header = function() {\n",
       "    var titlebar = $(\n",
       "        '<div class=\"ui-dialog-titlebar ui-widget-header ui-corner-all ' +\n",
       "        'ui-helper-clearfix\"/>');\n",
       "    var titletext = $(\n",
       "        '<div class=\"ui-dialog-title\" style=\"width: 100%; ' +\n",
       "        'text-align: center; padding: 3px;\"/>');\n",
       "    titlebar.append(titletext)\n",
       "    this.root.append(titlebar);\n",
       "    this.header = titletext[0];\n",
       "}\n",
       "\n",
       "\n",
       "\n",
       "mpl.figure.prototype._canvas_extra_style = function(canvas_div) {\n",
       "\n",
       "}\n",
       "\n",
       "\n",
       "mpl.figure.prototype._root_extra_style = function(canvas_div) {\n",
       "\n",
       "}\n",
       "\n",
       "mpl.figure.prototype._init_canvas = function() {\n",
       "    var fig = this;\n",
       "\n",
       "    var canvas_div = $('<div/>');\n",
       "\n",
       "    canvas_div.attr('style', 'position: relative; clear: both; outline: 0');\n",
       "\n",
       "    function canvas_keyboard_event(event) {\n",
       "        return fig.key_event(event, event['data']);\n",
       "    }\n",
       "\n",
       "    canvas_div.keydown('key_press', canvas_keyboard_event);\n",
       "    canvas_div.keyup('key_release', canvas_keyboard_event);\n",
       "    this.canvas_div = canvas_div\n",
       "    this._canvas_extra_style(canvas_div)\n",
       "    this.root.append(canvas_div);\n",
       "\n",
       "    var canvas = $('<canvas/>');\n",
       "    canvas.addClass('mpl-canvas');\n",
       "    canvas.attr('style', \"left: 0; top: 0; z-index: 0; outline: 0\")\n",
       "\n",
       "    this.canvas = canvas[0];\n",
       "    this.context = canvas[0].getContext(\"2d\");\n",
       "\n",
       "    var rubberband = $('<canvas/>');\n",
       "    rubberband.attr('style', \"position: absolute; left: 0; top: 0; z-index: 1;\")\n",
       "\n",
       "    var pass_mouse_events = true;\n",
       "\n",
       "    canvas_div.resizable({\n",
       "        start: function(event, ui) {\n",
       "            pass_mouse_events = false;\n",
       "        },\n",
       "        resize: function(event, ui) {\n",
       "            fig.request_resize(ui.size.width, ui.size.height);\n",
       "        },\n",
       "        stop: function(event, ui) {\n",
       "            pass_mouse_events = true;\n",
       "            fig.request_resize(ui.size.width, ui.size.height);\n",
       "        },\n",
       "    });\n",
       "\n",
       "    function mouse_event_fn(event) {\n",
       "        if (pass_mouse_events)\n",
       "            return fig.mouse_event(event, event['data']);\n",
       "    }\n",
       "\n",
       "    rubberband.mousedown('button_press', mouse_event_fn);\n",
       "    rubberband.mouseup('button_release', mouse_event_fn);\n",
       "    // Throttle sequential mouse events to 1 every 20ms.\n",
       "    rubberband.mousemove('motion_notify', mouse_event_fn);\n",
       "\n",
       "    rubberband.mouseenter('figure_enter', mouse_event_fn);\n",
       "    rubberband.mouseleave('figure_leave', mouse_event_fn);\n",
       "\n",
       "    canvas_div.on(\"wheel\", function (event) {\n",
       "        event = event.originalEvent;\n",
       "        event['data'] = 'scroll'\n",
       "        if (event.deltaY < 0) {\n",
       "            event.step = 1;\n",
       "        } else {\n",
       "            event.step = -1;\n",
       "        }\n",
       "        mouse_event_fn(event);\n",
       "    });\n",
       "\n",
       "    canvas_div.append(canvas);\n",
       "    canvas_div.append(rubberband);\n",
       "\n",
       "    this.rubberband = rubberband;\n",
       "    this.rubberband_canvas = rubberband[0];\n",
       "    this.rubberband_context = rubberband[0].getContext(\"2d\");\n",
       "    this.rubberband_context.strokeStyle = \"#000000\";\n",
       "\n",
       "    this._resize_canvas = function(width, height) {\n",
       "        // Keep the size of the canvas, canvas container, and rubber band\n",
       "        // canvas in synch.\n",
       "        canvas_div.css('width', width)\n",
       "        canvas_div.css('height', height)\n",
       "\n",
       "        canvas.attr('width', width);\n",
       "        canvas.attr('height', height);\n",
       "\n",
       "        rubberband.attr('width', width);\n",
       "        rubberband.attr('height', height);\n",
       "    }\n",
       "\n",
       "    // Set the figure to an initial 600x600px, this will subsequently be updated\n",
       "    // upon first draw.\n",
       "    this._resize_canvas(600, 600);\n",
       "\n",
       "    // Disable right mouse context menu.\n",
       "    $(this.rubberband_canvas).bind(\"contextmenu\",function(e){\n",
       "        return false;\n",
       "    });\n",
       "\n",
       "    function set_focus () {\n",
       "        canvas.focus();\n",
       "        canvas_div.focus();\n",
       "    }\n",
       "\n",
       "    window.setTimeout(set_focus, 100);\n",
       "}\n",
       "\n",
       "mpl.figure.prototype._init_toolbar = function() {\n",
       "    var fig = this;\n",
       "\n",
       "    var nav_element = $('<div/>')\n",
       "    nav_element.attr('style', 'width: 100%');\n",
       "    this.root.append(nav_element);\n",
       "\n",
       "    // Define a callback function for later on.\n",
       "    function toolbar_event(event) {\n",
       "        return fig.toolbar_button_onclick(event['data']);\n",
       "    }\n",
       "    function toolbar_mouse_event(event) {\n",
       "        return fig.toolbar_button_onmouseover(event['data']);\n",
       "    }\n",
       "\n",
       "    for(var toolbar_ind in mpl.toolbar_items) {\n",
       "        var name = mpl.toolbar_items[toolbar_ind][0];\n",
       "        var tooltip = mpl.toolbar_items[toolbar_ind][1];\n",
       "        var image = mpl.toolbar_items[toolbar_ind][2];\n",
       "        var method_name = mpl.toolbar_items[toolbar_ind][3];\n",
       "\n",
       "        if (!name) {\n",
       "            // put a spacer in here.\n",
       "            continue;\n",
       "        }\n",
       "        var button = $('<button/>');\n",
       "        button.addClass('ui-button ui-widget ui-state-default ui-corner-all ' +\n",
       "                        'ui-button-icon-only');\n",
       "        button.attr('role', 'button');\n",
       "        button.attr('aria-disabled', 'false');\n",
       "        button.click(method_name, toolbar_event);\n",
       "        button.mouseover(tooltip, toolbar_mouse_event);\n",
       "\n",
       "        var icon_img = $('<span/>');\n",
       "        icon_img.addClass('ui-button-icon-primary ui-icon');\n",
       "        icon_img.addClass(image);\n",
       "        icon_img.addClass('ui-corner-all');\n",
       "\n",
       "        var tooltip_span = $('<span/>');\n",
       "        tooltip_span.addClass('ui-button-text');\n",
       "        tooltip_span.html(tooltip);\n",
       "\n",
       "        button.append(icon_img);\n",
       "        button.append(tooltip_span);\n",
       "\n",
       "        nav_element.append(button);\n",
       "    }\n",
       "\n",
       "    var fmt_picker_span = $('<span/>');\n",
       "\n",
       "    var fmt_picker = $('<select/>');\n",
       "    fmt_picker.addClass('mpl-toolbar-option ui-widget ui-widget-content');\n",
       "    fmt_picker_span.append(fmt_picker);\n",
       "    nav_element.append(fmt_picker_span);\n",
       "    this.format_dropdown = fmt_picker[0];\n",
       "\n",
       "    for (var ind in mpl.extensions) {\n",
       "        var fmt = mpl.extensions[ind];\n",
       "        var option = $(\n",
       "            '<option/>', {selected: fmt === mpl.default_extension}).html(fmt);\n",
       "        fmt_picker.append(option)\n",
       "    }\n",
       "\n",
       "    // Add hover states to the ui-buttons\n",
       "    $( \".ui-button\" ).hover(\n",
       "        function() { $(this).addClass(\"ui-state-hover\");},\n",
       "        function() { $(this).removeClass(\"ui-state-hover\");}\n",
       "    );\n",
       "\n",
       "    var status_bar = $('<span class=\"mpl-message\"/>');\n",
       "    nav_element.append(status_bar);\n",
       "    this.message = status_bar[0];\n",
       "}\n",
       "\n",
       "mpl.figure.prototype.request_resize = function(x_pixels, y_pixels) {\n",
       "    // Request matplotlib to resize the figure. Matplotlib will then trigger a resize in the client,\n",
       "    // which will in turn request a refresh of the image.\n",
       "    this.send_message('resize', {'width': x_pixels, 'height': y_pixels});\n",
       "}\n",
       "\n",
       "mpl.figure.prototype.send_message = function(type, properties) {\n",
       "    properties['type'] = type;\n",
       "    properties['figure_id'] = this.id;\n",
       "    this.ws.send(JSON.stringify(properties));\n",
       "}\n",
       "\n",
       "mpl.figure.prototype.send_draw_message = function() {\n",
       "    if (!this.waiting) {\n",
       "        this.waiting = true;\n",
       "        this.ws.send(JSON.stringify({type: \"draw\", figure_id: this.id}));\n",
       "    }\n",
       "}\n",
       "\n",
       "\n",
       "mpl.figure.prototype.handle_save = function(fig, msg) {\n",
       "    var format_dropdown = fig.format_dropdown;\n",
       "    var format = format_dropdown.options[format_dropdown.selectedIndex].value;\n",
       "    fig.ondownload(fig, format);\n",
       "}\n",
       "\n",
       "\n",
       "mpl.figure.prototype.handle_resize = function(fig, msg) {\n",
       "    var size = msg['size'];\n",
       "    if (size[0] != fig.canvas.width || size[1] != fig.canvas.height) {\n",
       "        fig._resize_canvas(size[0], size[1]);\n",
       "        fig.send_message(\"refresh\", {});\n",
       "    };\n",
       "}\n",
       "\n",
       "mpl.figure.prototype.handle_rubberband = function(fig, msg) {\n",
       "    var x0 = msg['x0'];\n",
       "    var y0 = fig.canvas.height - msg['y0'];\n",
       "    var x1 = msg['x1'];\n",
       "    var y1 = fig.canvas.height - msg['y1'];\n",
       "    x0 = Math.floor(x0) + 0.5;\n",
       "    y0 = Math.floor(y0) + 0.5;\n",
       "    x1 = Math.floor(x1) + 0.5;\n",
       "    y1 = Math.floor(y1) + 0.5;\n",
       "    var min_x = Math.min(x0, x1);\n",
       "    var min_y = Math.min(y0, y1);\n",
       "    var width = Math.abs(x1 - x0);\n",
       "    var height = Math.abs(y1 - y0);\n",
       "\n",
       "    fig.rubberband_context.clearRect(\n",
       "        0, 0, fig.canvas.width, fig.canvas.height);\n",
       "\n",
       "    fig.rubberband_context.strokeRect(min_x, min_y, width, height);\n",
       "}\n",
       "\n",
       "mpl.figure.prototype.handle_figure_label = function(fig, msg) {\n",
       "    // Updates the figure title.\n",
       "    fig.header.textContent = msg['label'];\n",
       "}\n",
       "\n",
       "mpl.figure.prototype.handle_cursor = function(fig, msg) {\n",
       "    var cursor = msg['cursor'];\n",
       "    switch(cursor)\n",
       "    {\n",
       "    case 0:\n",
       "        cursor = 'pointer';\n",
       "        break;\n",
       "    case 1:\n",
       "        cursor = 'default';\n",
       "        break;\n",
       "    case 2:\n",
       "        cursor = 'crosshair';\n",
       "        break;\n",
       "    case 3:\n",
       "        cursor = 'move';\n",
       "        break;\n",
       "    }\n",
       "    fig.rubberband_canvas.style.cursor = cursor;\n",
       "}\n",
       "\n",
       "mpl.figure.prototype.handle_message = function(fig, msg) {\n",
       "    fig.message.textContent = msg['message'];\n",
       "}\n",
       "\n",
       "mpl.figure.prototype.handle_draw = function(fig, msg) {\n",
       "    // Request the server to send over a new figure.\n",
       "    fig.send_draw_message();\n",
       "}\n",
       "\n",
       "mpl.figure.prototype.handle_image_mode = function(fig, msg) {\n",
       "    fig.image_mode = msg['mode'];\n",
       "}\n",
       "\n",
       "mpl.figure.prototype.updated_canvas_event = function() {\n",
       "    // Called whenever the canvas gets updated.\n",
       "    this.send_message(\"ack\", {});\n",
       "}\n",
       "\n",
       "// A function to construct a web socket function for onmessage handling.\n",
       "// Called in the figure constructor.\n",
       "mpl.figure.prototype._make_on_message_function = function(fig) {\n",
       "    return function socket_on_message(evt) {\n",
       "        if (evt.data instanceof Blob) {\n",
       "            /* FIXME: We get \"Resource interpreted as Image but\n",
       "             * transferred with MIME type text/plain:\" errors on\n",
       "             * Chrome.  But how to set the MIME type?  It doesn't seem\n",
       "             * to be part of the websocket stream */\n",
       "            evt.data.type = \"image/png\";\n",
       "\n",
       "            /* Free the memory for the previous frames */\n",
       "            if (fig.imageObj.src) {\n",
       "                (window.URL || window.webkitURL).revokeObjectURL(\n",
       "                    fig.imageObj.src);\n",
       "            }\n",
       "\n",
       "            fig.imageObj.src = (window.URL || window.webkitURL).createObjectURL(\n",
       "                evt.data);\n",
       "            fig.updated_canvas_event();\n",
       "            fig.waiting = false;\n",
       "            return;\n",
       "        }\n",
       "        else if (typeof evt.data === 'string' && evt.data.slice(0, 21) == \"data:image/png;base64\") {\n",
       "            fig.imageObj.src = evt.data;\n",
       "            fig.updated_canvas_event();\n",
       "            fig.waiting = false;\n",
       "            return;\n",
       "        }\n",
       "\n",
       "        var msg = JSON.parse(evt.data);\n",
       "        var msg_type = msg['type'];\n",
       "\n",
       "        // Call the  \"handle_{type}\" callback, which takes\n",
       "        // the figure and JSON message as its only arguments.\n",
       "        try {\n",
       "            var callback = fig[\"handle_\" + msg_type];\n",
       "        } catch (e) {\n",
       "            console.log(\"No handler for the '\" + msg_type + \"' message type: \", msg);\n",
       "            return;\n",
       "        }\n",
       "\n",
       "        if (callback) {\n",
       "            try {\n",
       "                // console.log(\"Handling '\" + msg_type + \"' message: \", msg);\n",
       "                callback(fig, msg);\n",
       "            } catch (e) {\n",
       "                console.log(\"Exception inside the 'handler_\" + msg_type + \"' callback:\", e, e.stack, msg);\n",
       "            }\n",
       "        }\n",
       "    };\n",
       "}\n",
       "\n",
       "// from http://stackoverflow.com/questions/1114465/getting-mouse-location-in-canvas\n",
       "mpl.findpos = function(e) {\n",
       "    //this section is from http://www.quirksmode.org/js/events_properties.html\n",
       "    var targ;\n",
       "    if (!e)\n",
       "        e = window.event;\n",
       "    if (e.target)\n",
       "        targ = e.target;\n",
       "    else if (e.srcElement)\n",
       "        targ = e.srcElement;\n",
       "    if (targ.nodeType == 3) // defeat Safari bug\n",
       "        targ = targ.parentNode;\n",
       "\n",
       "    // jQuery normalizes the pageX and pageY\n",
       "    // pageX,Y are the mouse positions relative to the document\n",
       "    // offset() returns the position of the element relative to the document\n",
       "    var x = e.pageX - $(targ).offset().left;\n",
       "    var y = e.pageY - $(targ).offset().top;\n",
       "\n",
       "    return {\"x\": x, \"y\": y};\n",
       "};\n",
       "\n",
       "/*\n",
       " * return a copy of an object with only non-object keys\n",
       " * we need this to avoid circular references\n",
       " * http://stackoverflow.com/a/24161582/3208463\n",
       " */\n",
       "function simpleKeys (original) {\n",
       "  return Object.keys(original).reduce(function (obj, key) {\n",
       "    if (typeof original[key] !== 'object')\n",
       "        obj[key] = original[key]\n",
       "    return obj;\n",
       "  }, {});\n",
       "}\n",
       "\n",
       "mpl.figure.prototype.mouse_event = function(event, name) {\n",
       "    var canvas_pos = mpl.findpos(event)\n",
       "\n",
       "    if (name === 'button_press')\n",
       "    {\n",
       "        this.canvas.focus();\n",
       "        this.canvas_div.focus();\n",
       "    }\n",
       "\n",
       "    var x = canvas_pos.x;\n",
       "    var y = canvas_pos.y;\n",
       "\n",
       "    this.send_message(name, {x: x, y: y, button: event.button,\n",
       "                             step: event.step,\n",
       "                             guiEvent: simpleKeys(event)});\n",
       "\n",
       "    /* This prevents the web browser from automatically changing to\n",
       "     * the text insertion cursor when the button is pressed.  We want\n",
       "     * to control all of the cursor setting manually through the\n",
       "     * 'cursor' event from matplotlib */\n",
       "    event.preventDefault();\n",
       "    return false;\n",
       "}\n",
       "\n",
       "mpl.figure.prototype._key_event_extra = function(event, name) {\n",
       "    // Handle any extra behaviour associated with a key event\n",
       "}\n",
       "\n",
       "mpl.figure.prototype.key_event = function(event, name) {\n",
       "\n",
       "    // Prevent repeat events\n",
       "    if (name == 'key_press')\n",
       "    {\n",
       "        if (event.which === this._key)\n",
       "            return;\n",
       "        else\n",
       "            this._key = event.which;\n",
       "    }\n",
       "    if (name == 'key_release')\n",
       "        this._key = null;\n",
       "\n",
       "    var value = '';\n",
       "    if (event.ctrlKey && event.which != 17)\n",
       "        value += \"ctrl+\";\n",
       "    if (event.altKey && event.which != 18)\n",
       "        value += \"alt+\";\n",
       "    if (event.shiftKey && event.which != 16)\n",
       "        value += \"shift+\";\n",
       "\n",
       "    value += 'k';\n",
       "    value += event.which.toString();\n",
       "\n",
       "    this._key_event_extra(event, name);\n",
       "\n",
       "    this.send_message(name, {key: value,\n",
       "                             guiEvent: simpleKeys(event)});\n",
       "    return false;\n",
       "}\n",
       "\n",
       "mpl.figure.prototype.toolbar_button_onclick = function(name) {\n",
       "    if (name == 'download') {\n",
       "        this.handle_save(this, null);\n",
       "    } else {\n",
       "        this.send_message(\"toolbar_button\", {name: name});\n",
       "    }\n",
       "};\n",
       "\n",
       "mpl.figure.prototype.toolbar_button_onmouseover = function(tooltip) {\n",
       "    this.message.textContent = tooltip;\n",
       "};\n",
       "mpl.toolbar_items = [[\"Home\", \"Reset original view\", \"fa fa-home icon-home\", \"home\"], [\"Back\", \"Back to  previous view\", \"fa fa-arrow-left icon-arrow-left\", \"back\"], [\"Forward\", \"Forward to next view\", \"fa fa-arrow-right icon-arrow-right\", \"forward\"], [\"\", \"\", \"\", \"\"], [\"Pan\", \"Pan axes with left mouse, zoom with right\", \"fa fa-arrows icon-move\", \"pan\"], [\"Zoom\", \"Zoom to rectangle\", \"fa fa-square-o icon-check-empty\", \"zoom\"], [\"\", \"\", \"\", \"\"], [\"Download\", \"Download plot\", \"fa fa-floppy-o icon-save\", \"download\"]];\n",
       "\n",
       "mpl.extensions = [\"eps\", \"jpeg\", \"pdf\", \"png\", \"ps\", \"raw\", \"svg\", \"tif\"];\n",
       "\n",
       "mpl.default_extension = \"png\";var comm_websocket_adapter = function(comm) {\n",
       "    // Create a \"websocket\"-like object which calls the given IPython comm\n",
       "    // object with the appropriate methods. Currently this is a non binary\n",
       "    // socket, so there is still some room for performance tuning.\n",
       "    var ws = {};\n",
       "\n",
       "    ws.close = function() {\n",
       "        comm.close()\n",
       "    };\n",
       "    ws.send = function(m) {\n",
       "        //console.log('sending', m);\n",
       "        comm.send(m);\n",
       "    };\n",
       "    // Register the callback with on_msg.\n",
       "    comm.on_msg(function(msg) {\n",
       "        //console.log('receiving', msg['content']['data'], msg);\n",
       "        // Pass the mpl event to the overriden (by mpl) onmessage function.\n",
       "        ws.onmessage(msg['content']['data'])\n",
       "    });\n",
       "    return ws;\n",
       "}\n",
       "\n",
       "mpl.mpl_figure_comm = function(comm, msg) {\n",
       "    // This is the function which gets called when the mpl process\n",
       "    // starts-up an IPython Comm through the \"matplotlib\" channel.\n",
       "\n",
       "    var id = msg.content.data.id;\n",
       "    // Get hold of the div created by the display call when the Comm\n",
       "    // socket was opened in Python.\n",
       "    var element = $(\"#\" + id);\n",
       "    var ws_proxy = comm_websocket_adapter(comm)\n",
       "\n",
       "    function ondownload(figure, format) {\n",
       "        window.open(figure.imageObj.src);\n",
       "    }\n",
       "\n",
       "    var fig = new mpl.figure(id, ws_proxy,\n",
       "                           ondownload,\n",
       "                           element.get(0));\n",
       "\n",
       "    // Call onopen now - mpl needs it, as it is assuming we've passed it a real\n",
       "    // web socket which is closed, not our websocket->open comm proxy.\n",
       "    ws_proxy.onopen();\n",
       "\n",
       "    fig.parent_element = element.get(0);\n",
       "    fig.cell_info = mpl.find_output_cell(\"<div id='\" + id + \"'></div>\");\n",
       "    if (!fig.cell_info) {\n",
       "        console.error(\"Failed to find cell for figure\", id, fig);\n",
       "        return;\n",
       "    }\n",
       "\n",
       "    var output_index = fig.cell_info[2]\n",
       "    var cell = fig.cell_info[0];\n",
       "\n",
       "};\n",
       "\n",
       "mpl.figure.prototype.handle_close = function(fig, msg) {\n",
       "    fig.root.unbind('remove')\n",
       "\n",
       "    // Update the output cell to use the data from the current canvas.\n",
       "    fig.push_to_output();\n",
       "    var dataURL = fig.canvas.toDataURL();\n",
       "    // Re-enable the keyboard manager in IPython - without this line, in FF,\n",
       "    // the notebook keyboard shortcuts fail.\n",
       "    IPython.keyboard_manager.enable()\n",
       "    $(fig.parent_element).html('<img src=\"' + dataURL + '\">');\n",
       "    fig.close_ws(fig, msg);\n",
       "}\n",
       "\n",
       "mpl.figure.prototype.close_ws = function(fig, msg){\n",
       "    fig.send_message('closing', msg);\n",
       "    // fig.ws.close()\n",
       "}\n",
       "\n",
       "mpl.figure.prototype.push_to_output = function(remove_interactive) {\n",
       "    // Turn the data on the canvas into data in the output cell.\n",
       "    var dataURL = this.canvas.toDataURL();\n",
       "    this.cell_info[1]['text/html'] = '<img src=\"' + dataURL + '\">';\n",
       "}\n",
       "\n",
       "mpl.figure.prototype.updated_canvas_event = function() {\n",
       "    // Tell IPython that the notebook contents must change.\n",
       "    IPython.notebook.set_dirty(true);\n",
       "    this.send_message(\"ack\", {});\n",
       "    var fig = this;\n",
       "    // Wait a second, then push the new image to the DOM so\n",
       "    // that it is saved nicely (might be nice to debounce this).\n",
       "    setTimeout(function () { fig.push_to_output() }, 1000);\n",
       "}\n",
       "\n",
       "mpl.figure.prototype._init_toolbar = function() {\n",
       "    var fig = this;\n",
       "\n",
       "    var nav_element = $('<div/>')\n",
       "    nav_element.attr('style', 'width: 100%');\n",
       "    this.root.append(nav_element);\n",
       "\n",
       "    // Define a callback function for later on.\n",
       "    function toolbar_event(event) {\n",
       "        return fig.toolbar_button_onclick(event['data']);\n",
       "    }\n",
       "    function toolbar_mouse_event(event) {\n",
       "        return fig.toolbar_button_onmouseover(event['data']);\n",
       "    }\n",
       "\n",
       "    for(var toolbar_ind in mpl.toolbar_items){\n",
       "        var name = mpl.toolbar_items[toolbar_ind][0];\n",
       "        var tooltip = mpl.toolbar_items[toolbar_ind][1];\n",
       "        var image = mpl.toolbar_items[toolbar_ind][2];\n",
       "        var method_name = mpl.toolbar_items[toolbar_ind][3];\n",
       "\n",
       "        if (!name) { continue; };\n",
       "\n",
       "        var button = $('<button class=\"btn btn-default\" href=\"#\" title=\"' + name + '\"><i class=\"fa ' + image + ' fa-lg\"></i></button>');\n",
       "        button.click(method_name, toolbar_event);\n",
       "        button.mouseover(tooltip, toolbar_mouse_event);\n",
       "        nav_element.append(button);\n",
       "    }\n",
       "\n",
       "    // Add the status bar.\n",
       "    var status_bar = $('<span class=\"mpl-message\" style=\"text-align:right; float: right;\"/>');\n",
       "    nav_element.append(status_bar);\n",
       "    this.message = status_bar[0];\n",
       "\n",
       "    // Add the close button to the window.\n",
       "    var buttongrp = $('<div class=\"btn-group inline pull-right\"></div>');\n",
       "    var button = $('<button class=\"btn btn-mini btn-primary\" href=\"#\" title=\"Stop Interaction\"><i class=\"fa fa-power-off icon-remove icon-large\"></i></button>');\n",
       "    button.click(function (evt) { fig.handle_close(fig, {}); } );\n",
       "    button.mouseover('Stop Interaction', toolbar_mouse_event);\n",
       "    buttongrp.append(button);\n",
       "    var titlebar = this.root.find($('.ui-dialog-titlebar'));\n",
       "    titlebar.prepend(buttongrp);\n",
       "}\n",
       "\n",
       "mpl.figure.prototype._root_extra_style = function(el){\n",
       "    var fig = this\n",
       "    el.on(\"remove\", function(){\n",
       "\tfig.close_ws(fig, {});\n",
       "    });\n",
       "}\n",
       "\n",
       "mpl.figure.prototype._canvas_extra_style = function(el){\n",
       "    // this is important to make the div 'focusable\n",
       "    el.attr('tabindex', 0)\n",
       "    // reach out to IPython and tell the keyboard manager to turn it's self\n",
       "    // off when our div gets focus\n",
       "\n",
       "    // location in version 3\n",
       "    if (IPython.notebook.keyboard_manager) {\n",
       "        IPython.notebook.keyboard_manager.register_events(el);\n",
       "    }\n",
       "    else {\n",
       "        // location in version 2\n",
       "        IPython.keyboard_manager.register_events(el);\n",
       "    }\n",
       "\n",
       "}\n",
       "\n",
       "mpl.figure.prototype._key_event_extra = function(event, name) {\n",
       "    var manager = IPython.notebook.keyboard_manager;\n",
       "    if (!manager)\n",
       "        manager = IPython.keyboard_manager;\n",
       "\n",
       "    // Check for shift+enter\n",
       "    if (event.shiftKey && event.which == 13) {\n",
       "        this.canvas_div.blur();\n",
       "        // select the cell after this one\n",
       "        var index = IPython.notebook.find_cell_index(this.cell_info[0]);\n",
       "        IPython.notebook.select(index + 1);\n",
       "    }\n",
       "}\n",
       "\n",
       "mpl.figure.prototype.handle_save = function(fig, msg) {\n",
       "    fig.ondownload(fig, null);\n",
       "}\n",
       "\n",
       "\n",
       "mpl.find_output_cell = function(html_output) {\n",
       "    // Return the cell and output element which can be found *uniquely* in the notebook.\n",
       "    // Note - this is a bit hacky, but it is done because the \"notebook_saving.Notebook\"\n",
       "    // IPython event is triggered only after the cells have been serialised, which for\n",
       "    // our purposes (turning an active figure into a static one), is too late.\n",
       "    var cells = IPython.notebook.get_cells();\n",
       "    var ncells = cells.length;\n",
       "    for (var i=0; i<ncells; i++) {\n",
       "        var cell = cells[i];\n",
       "        if (cell.cell_type === 'code'){\n",
       "            for (var j=0; j<cell.output_area.outputs.length; j++) {\n",
       "                var data = cell.output_area.outputs[j];\n",
       "                if (data.data) {\n",
       "                    // IPython >= 3 moved mimebundle to data attribute of output\n",
       "                    data = data.data;\n",
       "                }\n",
       "                if (data['text/html'] == html_output) {\n",
       "                    return [cell, data, j];\n",
       "                }\n",
       "            }\n",
       "        }\n",
       "    }\n",
       "}\n",
       "\n",
       "// Register the function which deals with the matplotlib target/channel.\n",
       "// The kernel may be null if the page has been refreshed.\n",
       "if (IPython.notebook.kernel != null) {\n",
       "    IPython.notebook.kernel.comm_manager.register_target('matplotlib', mpl.mpl_figure_comm);\n",
       "}\n"
      ],
      "text/plain": [
       "<IPython.core.display.Javascript object>"
      ]
     },
     "metadata": {},
     "output_type": "display_data"
    },
    {
     "data": {
      "text/html": [
       "<img src=\"data:image/png;base64,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\">"
      ],
      "text/plain": [
       "<IPython.core.display.HTML object>"
      ]
     },
     "metadata": {},
     "output_type": "display_data"
    }
   ],
   "source": [
    "%matplotlib notebook\n",
    "weight = np.ones(usincome.shape[0])/usincome.shape[0]\n",
    "weight = usincome[:, 0].copy()\n",
    "weight[-1] = weight[-1]/20\n",
    "weight[-2] = weight[-2]/10\n",
    "# weight *= usincome[:, 0]\n",
    "count, bins, ignored = plt.hist(usincome[:, 1], bins = usincome[:, 1], weights = weight)\n"
   ]
  },
  {
   "cell_type": "markdown",
   "metadata": {},
   "source": [
    "## b)"
   ]
  },
  {
   "cell_type": "code",
   "execution_count": 417,
   "metadata": {
    "collapsed": true
   },
   "outputs": [],
   "source": [
    "def income_datamom(data):\n",
    "    datamoment = data[:, 0].copy()\n",
    "    datamoment[-1] /= 20\n",
    "    datamoment[-2] /= 10\n",
    "    return datamoment\n",
    "\n",
    "def income_modelmom_norm(mu, sigma):\n",
    "    cutoffs = list(range(0, 205, 5))\n",
    "    cutoffs.extend([250, 350])\n",
    "    modelmom = np.zeros(len(cutoffs) - 1)\n",
    "    for i in range(len(modelmom)):\n",
    "        mom = sts.lognorm.cdf(cutoffs[i + 1], sigma, 0, mu)-\\\n",
    "            sts.lognorm.cdf(cutoffs[i], sigma, 0, mu)\n",
    "        modelmom[i] = mom\n",
    "    modelmom[-1] /= 20\n",
    "    modelmom[-2] /= 10\n",
    "    return modelmom\n",
    "\n",
    "def LN_errvec(data, params):\n",
    "    mu, sigma = params\n",
    "    datamom = income_datamom(data)\n",
    "    modelmom = income_modelmom_norm(mu, sigma)\n",
    "    return (modelmom - datamom) / datamom\n",
    "\n",
    "def income_crit(params, *args):\n",
    "    data, W = args\n",
    "    mu, sigma = params\n",
    "    modelmom = income_modelmom_norm(mu, sigma)\n",
    "    datamom = income_datamom(data)\n",
    "    rela_error = (modelmom - datamom) / datamom\n",
    "    return rela_error.T@ W@rela_error"
   ]
  },
  {
   "cell_type": "code",
   "execution_count": 418,
   "metadata": {
    "collapsed": false
   },
   "outputs": [
    {
     "data": {
      "text/plain": [
       " final_simplex: (array([[ 51.02903939,   1.01649377],\n",
       "       [ 51.02903939,   1.01649377],\n",
       "       [ 51.02903939,   1.01649377]]), array([ 3.03000255,  3.03000255,  3.03000255]))\n",
       "           fun: 3.0300025538568987\n",
       "       message: 'Optimization terminated successfully.'\n",
       "          nfev: 226\n",
       "           nit: 105\n",
       "        status: 0\n",
       "       success: True\n",
       "             x: array([ 51.02903939,   1.01649377])"
      ]
     },
     "execution_count": 418,
     "metadata": {},
     "output_type": "execute_result"
    }
   ],
   "source": [
    "mu_init = (weight * usincome[:, 1]).sum()\n",
    "sigma_init = ((usincome[:, 1] - mu_init)**2 * weight).sum()\n",
    "params_init = np.array([40, 0.2])\n",
    "# params_init = np.array([50, 20])\n",
    "# params_init = np.array([mu_init, sigma_init])\n",
    "W = np.diag(weight)\n",
    "gmm_args = (usincome, W * 100)\n",
    "results_income = opt.minimize(income_crit, params_init, args=(gmm_args), method = 'Nelder-Mead', \\\n",
    "#                       bounds = ((None, None), (1e-10, None)),\\\n",
    "                    tol = 1e-12)\n",
    "mu_inc, sigma_inc = results_income.x\n",
    "results_income"
   ]
  },
  {
   "cell_type": "code",
   "execution_count": 419,
   "metadata": {
    "collapsed": false
   },
   "outputs": [
    {
     "data": {
      "text/plain": [
       "[<matplotlib.lines.Line2D at 0x112f39278>]"
      ]
     },
     "execution_count": 419,
     "metadata": {},
     "output_type": "execute_result"
    }
   ],
   "source": [
    "x_range = np.linspace(0, 350, 1000)\n",
    "dense_LN = sts.lognorm.pdf(x_range, sigma_inc, 0, mu_inc)\n",
    "dense_LN = income_modelmom_norm(mu_inc, sigma_inc)\n",
    "plt.plot(usincome[:, 1], dense_LN, label = 'Log Normal')"
   ]
  },
  {
   "cell_type": "markdown",
   "metadata": {},
   "source": [
    "## c)"
   ]
  },
  {
   "cell_type": "code",
   "execution_count": 420,
   "metadata": {
    "collapsed": false
   },
   "outputs": [
    {
     "data": {
      "text/plain": [
       "(42,)"
      ]
     },
     "execution_count": 420,
     "metadata": {},
     "output_type": "execute_result"
    }
   ],
   "source": [
    "usincome[:, 1].shape\n",
    "dense_LN.shape"
   ]
  },
  {
   "cell_type": "code",
   "execution_count": 421,
   "metadata": {
    "collapsed": true
   },
   "outputs": [],
   "source": [
    "def income_modelmom_ga(alpha, beta):\n",
    "    cutoffs = list(range(0, 205, 5))\n",
    "    cutoffs.extend([250, 350])\n",
    "    modelmom = np.zeros(len(cutoffs) - 1)\n",
    "    for i in range(len(modelmom)):\n",
    "        mom = sts.gamma.cdf(cutoffs[i + 1], alpha, 0, beta)-\\\n",
    "            sts.gamma.cdf(cutoffs[i], alpha, 0, beta)\n",
    "        modelmom[i] = mom\n",
    "    modelmom[-1] /= 20\n",
    "    modelmom[-2] /= 10\n",
    "    return modelmom\n",
    "\n",
    "def ga_errvec(data, params):\n",
    "    alpha, beta = params\n",
    "    modelmom = income_modelmom_ga(alpha, beta)\n",
    "    datamom = income_datamom(data)\n",
    "    return (modelmom - datamom) / datamom\n",
    "\n",
    "def income_crit_ga(params, *args):\n",
    "    data, W = args\n",
    "    alpha, beta = params\n",
    "    modelmom = income_modelmom_ga(alpha, beta)\n",
    "    datamom = income_datamom(data)\n",
    "    rela_error = (modelmom - datamom) / datamom\n",
    "    return rela_error.T@ W@rela_error"
   ]
  },
  {
   "cell_type": "code",
   "execution_count": 422,
   "metadata": {
    "collapsed": false
   },
   "outputs": [
    {
     "data": {
      "text/plain": [
       " final_simplex: (array([[  1.41684712,  44.91132453],\n",
       "       [  1.41684712,  44.91132453],\n",
       "       [  1.41684712,  44.91132453]]), array([ 0.62475362,  0.62475362,  0.62475362]))\n",
       "           fun: 0.62475361593920997\n",
       "       message: 'Optimization terminated successfully.'\n",
       "          nfev: 386\n",
       "           nit: 192\n",
       "        status: 0\n",
       "       success: True\n",
       "             x: array([  1.41684712,  44.91132453])"
      ]
     },
     "execution_count": 422,
     "metadata": {},
     "output_type": "execute_result"
    }
   ],
   "source": [
    "alpha_init = 3\n",
    "beta_init = 20000\n",
    "params_init = np.array([alpha_init, beta_init])\n",
    "W = np.diag(weight)\n",
    "gmm_args = (usincome, W * 100)\n",
    "results_income_ga = opt.minimize(income_crit_ga, params_init, args=(gmm_args), method = 'Nelder-Mead', \\\n",
    "#                       bounds = ((None, None), (1e-10, None)),\\\n",
    "                      tol = 1e-12)\n",
    "alpha_inc, beta_inc = results_income_ga.x\n",
    "results_income_ga"
   ]
  },
  {
   "cell_type": "code",
   "execution_count": 423,
   "metadata": {
    "collapsed": false
   },
   "outputs": [
    {
     "data": {
      "text/plain": [
       "[<matplotlib.lines.Line2D at 0x112f3d860>]"
      ]
     },
     "execution_count": 423,
     "metadata": {},
     "output_type": "execute_result"
    }
   ],
   "source": [
    "dense_GA = sts.gamma.pdf(x_range, alpha_inc, 0, beta_inc)\n",
    "dense_GA = income_modelmom_ga(alpha_inc, beta_inc)\n",
    "plt.plot(usincome[:, 1], dense_GA, '--', label = 'GA')"
   ]
  },
  {
   "cell_type": "code",
   "execution_count": 424,
   "metadata": {
    "collapsed": false
   },
   "outputs": [
    {
     "data": {
      "text/plain": [
       "array([ 0.0332702 ,  0.05005973,  0.05563832,  0.05734307,  0.05700037,\n",
       "        0.05546207,  0.05320801,  0.05053514,  0.04763716,  0.04464412,\n",
       "        0.04164456,  0.03869882,  0.03584753,  0.03311735,  0.03052486,\n",
       "        0.02807935,  0.0257848 ,  0.02364141,  0.02164661,  0.01979593,\n",
       "        0.01808359,  0.01650295,  0.01504686,  0.01370793,  0.0124787 ,\n",
       "        0.0113518 ,  0.01032004,  0.00937647,  0.00851448,  0.00772776,\n",
       "        0.00701036,  0.00635671,  0.00576159,  0.00522011,  0.00472777,\n",
       "        0.00428036,  0.00387401,  0.00350514,  0.00317045,  0.00286691,\n",
       "        0.00171082,  0.00041391])"
      ]
     },
     "execution_count": 424,
     "metadata": {},
     "output_type": "execute_result"
    }
   ],
   "source": [
    "dense_GA"
   ]
  },
  {
   "cell_type": "markdown",
   "metadata": {},
   "source": [
    "## e)"
   ]
  },
  {
   "cell_type": "code",
   "execution_count": 425,
   "metadata": {
    "collapsed": false
   },
   "outputs": [
    {
     "data": {
      "text/plain": [
       "      fun: 9.5810585781783207e-14\n",
       " hess_inv: <2x2 LbfgsInvHessProduct with dtype=float64>\n",
       "      jac: array([ -2.86910858e-06,  -3.68905073e-06])\n",
       "  message: b'CONVERGENCE: REL_REDUCTION_OF_F_<=_FACTR*EPSMCH'\n",
       "     nfev: 81\n",
       "      nit: 5\n",
       "   status: 0\n",
       "  success: True\n",
       "        x: array([  3.10012999,  44.99799236])"
      ]
     },
     "execution_count": 425,
     "metadata": {},
     "output_type": "execute_result"
    }
   ],
   "source": [
    "error_LN = LN_errvec(usincome, results_income.x)\n",
    "error_ga = ga_errvec(usincome, results_income_ga.x)\n",
    "error_LN = error_LN.reshape((error_LN.shape[0], 1))\n",
    "error_ga = error_ga.reshape((error_ga.shape[0], 1))\n",
    "W_LN = error_LN.T @ error_LN\n",
    "W_ga = error_ga @ error_ga.T * 100\n",
    "\n",
    "alpha_init = alpha_inc + 1\n",
    "beta_init = beta_inc\n",
    "# alpha_init = 2\n",
    "# beta_init = 45\n",
    "# alpha_init = 3\n",
    "# beta_init = 20000\n",
    "params_init = np.array([alpha_init, beta_init])\n",
    "gmm_args = (usincome, W_ga)\n",
    "results_income_ga_two = opt.minimize(income_crit_ga, params_init, args=(gmm_args), method = 'L-BFGS-B', \\\n",
    "                      bounds = ((1e-10, None), (1e-10, None)),\\\n",
    "                      tol = 1e-12)\n",
    "alpha_inc_two, beta_inc_two = results_income_ga_two.x\n",
    "results_income_ga_two"
   ]
  },
  {
   "cell_type": "code",
   "execution_count": 426,
   "metadata": {
    "collapsed": false
   },
   "outputs": [
    {
     "data": {
      "text/plain": [
       "<matplotlib.legend.Legend at 0x112f3d5c0>"
      ]
     },
     "execution_count": 426,
     "metadata": {},
     "output_type": "execute_result"
    }
   ],
   "source": [
    "dense_GA_two = income_modelmom_ga(alpha_inc_two, beta_inc_two)\n",
    "plt.plot(usincome[:, 1], dense_GA_two, label = 'GA-Two Step')\n",
    "plt.legend()"
   ]
  },
  {
   "cell_type": "markdown",
   "metadata": {},
   "source": [
    "# Problem 4"
   ]
  },
  {
   "cell_type": "code",
   "execution_count": 427,
   "metadata": {
    "collapsed": true
   },
   "outputs": [],
   "source": [
    "def macro_datamom(data, params):\n",
    "    alpha, rho, mu, beta = params\n",
    "    c, k, w, r = data.T\n",
    "    z = get_z(data, params)\n",
    "    z_lag = np.append([mu], z[:-1])\n",
    "    \n",
    "    #first moment\n",
    "    first_mom = (z - rho * z_lag - (1- rho) * mu).mean()\n",
    "    \n",
    "    #second moment\n",
    "    second_mom = ((z - rho * z_lag - (1- rho) * mu)*z_lag).mean()\n",
    "    \n",
    "    #third moment\n",
    "    third_mom = (beta * alpha * np.exp(z[1:]) * k[1:]**(alpha - 1) * c[:-1] / c[1:] - 1).mean()\n",
    "    \n",
    "    #fourth moment\n",
    "    fourth_mom = ((beta * alpha * np.exp(z[1:]) * k[1:]**(alpha - 1) * c[:-1] / c[1:] - 1) * w[:-1]).mean()\n",
    "    \n",
    "    return np.array([first_mom, second_mom, third_mom, fourth_mom])\n",
    "\n",
    "def macro_gmm_crit(params, *args):\n",
    "    data, W = args\n",
    "    datamom = macro_datamom(data, params)\n",
    "    modelmom = np.zeros(params.shape[0])\n",
    "    error = datamom - modelmom\n",
    "    error = error.reshape((error.shape[0],1))\n",
    "    return error.T @ W @ error"
   ]
  },
  {
   "cell_type": "code",
   "execution_count": 428,
   "metadata": {
    "collapsed": false
   },
   "outputs": [
    {
     "data": {
      "text/plain": [
       " final_simplex: (array([[ 0.44389196,  0.71930335,  9.7142613 ,  0.89812829],\n",
       "       [ 0.44389196,  0.71930335,  9.7142613 ,  0.89812829],\n",
       "       [ 0.44389196,  0.71930335,  9.7142613 ,  0.89812829],\n",
       "       [ 0.44389196,  0.71930335,  9.7142613 ,  0.89812829],\n",
       "       [ 0.44389196,  0.71930335,  9.7142613 ,  0.89812829]]), array([  3.89327421e-10,   3.89327423e-10,   3.89327479e-10,\n",
       "         3.89327508e-10,   3.89327527e-10]))\n",
       "           fun: 3.8932742108532261e-10\n",
       "       message: 'Optimization terminated successfully.'\n",
       "          nfev: 3123\n",
       "           nit: 1840\n",
       "        status: 0\n",
       "       success: True\n",
       "             x: array([ 0.44389196,  0.71930335,  9.7142613 ,  0.89812829])"
      ]
     },
     "execution_count": 428,
     "metadata": {},
     "output_type": "execute_result"
    }
   ],
   "source": [
    "params_init = np.append(results_macro.x[:3], [0.9])\n",
    "# params_init = np.array([0.4, 0.5, 0.4, 0.6])\n",
    "# params_init = np.array([0.42, 0.8, 2, 0.3])\n",
    "gmm_args = (macro, np.eye(4))\n",
    "results_macro_gmm = opt.minimize(macro_gmm_crit, params_init, args=(gmm_args), method = 'Nelder-Mead', \\\n",
    "#                       bounds = ((1e-10, None), (-1 + 1e-10, 1 - 1e-10), (1e-10, None), (1e-10, 1-1e-10)),\\\n",
    "                      tol = 1e-12, options = {'maxiter' : 15000})\n",
    "alpha_gmm, rho_gmm, mu_gmm, sigma_gmm = results_macro_gmm.x\n",
    "results_macro_gmm"
   ]
  },
  {
   "cell_type": "code",
   "execution_count": 431,
   "metadata": {
    "collapsed": false
   },
   "outputs": [
    {
     "name": "stdout",
     "output_type": "stream",
     "text": [
      "Estimated alpha is 0.44389196474138715\n",
      "Estimated rho is 0.7193033544309204\n",
      "Estimated mu is 9.714261301726722\n",
      "Estimated beta is 0.8981282936609406\n"
     ]
    }
   ],
   "source": [
    "print('Estimated alpha is {}'.format(results_macro_gmm.x[0]))\n",
    "print('Estimated rho is {}'.format(results_macro_gmm.x[1]))\n",
    "print('Estimated mu is {}'.format(results_macro_gmm.x[2]))\n",
    "print('Estimated beta is {}'.format(results_macro_gmm.x[3]))"
   ]
  },
  {
   "cell_type": "code",
   "execution_count": null,
   "metadata": {
    "collapsed": true
   },
   "outputs": [],
   "source": []
  }
 ],
 "metadata": {
  "anaconda-cloud": {},
  "kernelspec": {
   "display_name": "Python [default]",
   "language": "python",
   "name": "python3"
  },
  "language_info": {
   "codemirror_mode": {
    "name": "ipython",
    "version": 3
   },
   "file_extension": ".py",
   "mimetype": "text/x-python",
   "name": "python",
   "nbconvert_exporter": "python",
   "pygments_lexer": "ipython3",
   "version": "3.5.2"
  }
 },
 "nbformat": 4,
 "nbformat_minor": 1
}
