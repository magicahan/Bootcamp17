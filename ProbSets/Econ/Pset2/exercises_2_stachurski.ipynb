{
 "cells": [
  {
   "cell_type": "markdown",
   "metadata": {},
   "source": [
    "## Exercise Set 2 for OSM \n",
    "\n",
    "### Dynamic Programming with John Stachurski"
   ]
  },
  {
   "cell_type": "markdown",
   "metadata": {},
   "source": [
    "Exercises for the [OSM](https://bfi.uchicago.edu/osm) bootcamp dynamic programming section.\n",
    "\n",
    "We will use the following libraries:"
   ]
  },
  {
   "cell_type": "code",
   "execution_count": 1,
   "metadata": {
    "collapsed": true
   },
   "outputs": [],
   "source": [
    "import numpy as np\n",
    "import matplotlib.pyplot as plt\n",
    "import quantecon as qe"
   ]
  },
  {
   "cell_type": "markdown",
   "metadata": {},
   "source": [
    "### Exercise 1"
   ]
  },
  {
   "cell_type": "markdown",
   "metadata": {},
   "source": [
    "Consider the setting of the [stochastic optimal growth model](https://lectures.quantecon.org/py/optgrowth.html), with the same notation and same assumptions on the primitives $u$, $f$, $\\beta$ and $\\phi$. \n",
    "\n",
    "Let $\\mathscr C$ be all continuous bounded functions on $\\mathbb R_+$.\n",
    "\n",
    "Let $\\sigma \\in \\Sigma$ be any feasible policy and let $U$ be the operator from $\\mathscr C$ to itself defined by\n",
    "\n",
    "$$ Uw(y) = u(\\sigma(y)) + \\beta \\int w(f(y - \\sigma(y))z) \\phi(dz) \\qquad (y \\in \\mathbb R_+)$$\n",
    "\n",
    "Prove that $U$ is a contraction mapping with respect to the supremum distance.  Argue that the unique fixed point of $U$ in $\\mathscr C$ is $v_\\sigma$.\n",
    "\n",
    "(\"Argue\" means provide a sketch of a proof that contains the key ideas, plus some intuition.  Or give a complete, formal proof, if you can.)"
   ]
  },
  {
   "cell_type": "markdown",
   "metadata": {},
   "source": [
    "This involves the fixed point theorem of functions. Firstly, we have to show that the space (C, ||.||sup) is a complete (this should require continous and bounded). Then we have to show that the operator U is a contraction mapping on this space. This requires us to show that given two different value function  $w_1(y)$ and $w_2(y)$, we have to show that $$ ||Uw_1(y) - Uw_2(y)||_{sup} \\leq ||w_1(y) - w_2(y)||_{sup}$$."
   ]
  },
  {
   "cell_type": "markdown",
   "metadata": {},
   "source": [
    "### Exercise 2"
   ]
  },
  {
   "cell_type": "markdown",
   "metadata": {},
   "source": [
    "Notation and concepts continue from exercise 2.\n",
    "\n",
    "Use the fact you proved in exercise 2, combined with piecewise linear interpolation method we used for the Bellman operator, to compute and plot good approximations of the value $v_\\sigma$ of the policies\n",
    "\n",
    "* $\\sigma_1(y) = 0.95 y$\n",
    "* $\\sigma_2(y) = H(y) y$ where $H$ is the cdf of the lognormal $LN(0, 0.5)$ distribution.\n",
    "\n",
    "For the latter use `scipy.stats.lognorm.cdf(y, 0.5)`\n",
    "\n",
    "For the primitives, use the default specification in the `LogLinearOG` class from the [stochastic optimal growth model lecture](https://lectures.quantecon.org/py/optgrowth.html).\n",
    "\n",
    "Plot your results, choosing grid and plotting dimensions to best illustrate the two functions.  Based on the plot alone, argue that neither of these policies is an optimal policy."
   ]
  },
  {
   "cell_type": "code",
   "execution_count": 21,
   "metadata": {
    "collapsed": false
   },
   "outputs": [
    {
     "name": "stdout",
     "output_type": "stream",
     "text": [
      "9.87810011566e-09\n",
      "9.49985690113e-09\n"
     ]
    }
   ],
   "source": [
    "import scipy\n",
    "import scipy.stats\n",
    "import numpy as np\n",
    "import matplotlib.pyplot as plt\n",
    "\n",
    "def operator(sigma, grid, params):\n",
    "    u, f, beta, alpha, shock = params\n",
    "    v_init = u(grid)\n",
    "    v_now = v_init\n",
    "    v_prev = np.zeros(grid.shape[0])\n",
    "    val_func = lambda x: np.interp(x, grid, v_now)\n",
    "    \n",
    "    while abs((v_now - v_prev).sum()) > 1e-8:\n",
    "        v_prev = v_now.copy()\n",
    "        for i, y in enumerate(grid):\n",
    "            v_now[i] = u(sigma(y)) + beta * np.mean(val_func(shock * f(y - sigma(y), alpha)))\n",
    "        val_func = lambda x: np.interp(x, grid, v_now)\n",
    "    print(abs((v_now - v_prev).sum()))\n",
    "    return v_now, val_func\n",
    "\n",
    "def sigma1(x):\n",
    "    return 0.95 * x\n",
    "\n",
    "def sigma2(x):\n",
    "    return scipy.stats.lognorm.cdf(x, 0.5) * x\n",
    "\n",
    "def f(x, alpha):\n",
    "    return x ** alpha\n",
    "\n",
    "alpha=0.4\n",
    "beta=0.96\n",
    "mu=0\n",
    "s=0.1\n",
    "\n",
    "grid_max = 6        # Largest grid point\n",
    "grid_size = 200      # Number of grid points\n",
    "shock_size = 250     # Number of shock draws in Monte Carlo integral\n",
    "\n",
    "grid = np.linspace(1e-5, grid_max, grid_size)\n",
    "shocks = np.exp(mu + s * np.random.randn(shock_size))\n",
    "\n",
    "params = (np.log, f, beta, alpha, shocks)\n",
    "v_now1, val_func1 = operator(sigma1, grid, params)\n",
    "v_now2, val_func2 = operator(sigma2, grid, params)"
   ]
  },
  {
   "cell_type": "code",
   "execution_count": 26,
   "metadata": {
    "collapsed": false
   },
   "outputs": [
    {
     "data": {
      "image/png": "[encoded data removed]",
      "text/plain": [
       "<matplotlib.figure.Figure at 0x10fe242b0>"
      ]
     },
     "metadata": {},
     "output_type": "display_data"
    }
   ],
   "source": [
    "plt.plot(grid, v_now1, label = 'Sigma1')\n",
    "plt.plot(grid, v_now2, label = 'Sigma2')\n",
    "plt.ylim((-60, -25))\n",
    "plt.xlim((0, 4))\n",
    "plt.legend(loc = 'upper right')\n",
    "plt.xlabel(r'$y$')\n",
    "plt.ylabel('Value Function')\n",
    "plt.title('Value Function under Different Policies')\n",
    "plt.show()"
   ]
  },
  {
   "cell_type": "markdown",
   "metadata": {},
   "source": [
    "Clearly, these two are not optimal policy. If they were optimal policy, then the value function would have larger value on the entire domain. But they have crossing points meaning they are not optimal in a certain region since the agent can choose a policy such that she chooses to follow the policy that would give her the largest expected utility on each region. This policy strictly dominates these two policies. Then these two policies are not optimal."
   ]
  },
  {
   "cell_type": "code",
   "execution_count": null,
   "metadata": {
    "collapsed": true
   },
   "outputs": [],
   "source": []
  }
 ],
 "metadata": {
  "anaconda-cloud": {},
  "kernelspec": {
   "display_name": "Python [default]",
   "language": "python",
   "name": "python3"
  },
  "language_info": {
   "codemirror_mode": {
    "name": "ipython",
    "version": 3
   },
   "file_extension": ".py",
   "mimetype": "text/x-python",
   "name": "python",
   "nbconvert_exporter": "python",
   "pygments_lexer": "ipython3",
   "version": "3.5.2"
  }
 },
 "nbformat": 4,
 "nbformat_minor": 2
}
