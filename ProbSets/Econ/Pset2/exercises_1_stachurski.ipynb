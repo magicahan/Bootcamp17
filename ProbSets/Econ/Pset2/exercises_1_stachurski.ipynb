{
 "cells": [
  {
   "cell_type": "markdown",
   "metadata": {},
   "source": [
    "## Exercise Set 1 for OSM \n",
    "\n",
    "### Dynamic Programming with John Stachurski"
   ]
  },
  {
   "cell_type": "markdown",
   "metadata": {},
   "source": [
    "This notebook contains the first set of exercises for the [OSM](https://bfi.uchicago.edu/osm) bootcamp dynamic programming section.\n",
    "\n",
    "We will use the following libraries:"
   ]
  },
  {
   "cell_type": "code",
   "execution_count": 1,
   "metadata": {
    "collapsed": true
   },
   "outputs": [],
   "source": [
    "import numpy as np\n",
    "import matplotlib.pyplot as plt"
   ]
  },
  {
   "cell_type": "markdown",
   "metadata": {},
   "source": [
    "### Exercise 1\n",
    "\n",
    "Consider the data"
   ]
  },
  {
   "cell_type": "code",
   "execution_count": 2,
   "metadata": {
    "collapsed": true
   },
   "outputs": [],
   "source": [
    "A = [[0.6, 0.1, -0.3],\n",
    "     [0.5, -0.4, 0.2],\n",
    "     [1.0, -0.2, 1.1]]\n",
    "\n",
    "b = [[12],\n",
    "     [10],\n",
    "     [-1]]\n",
    "\n",
    "A, b = map(np.asarray, (A, b))"
   ]
  },
  {
   "cell_type": "markdown",
   "metadata": {
    "collapsed": true
   },
   "source": [
    "The equation $x = A x + b$ has a unique solution in $\\mathbb R^3$.  Show that this is true by checking the spectral radius condition."
   ]
  },
  {
   "cell_type": "code",
   "execution_count": 3,
   "metadata": {
    "collapsed": false
   },
   "outputs": [
    {
     "name": "stdout",
     "output_type": "stream",
     "text": [
      "0.965538166352\n"
     ]
    }
   ],
   "source": [
    "from scipy.linalg import eigvals, solve\n",
    "evs = eigvals(A)\n",
    "ρ = max(abs(evs))\n",
    "print(ρ)"
   ]
  },
  {
   "cell_type": "markdown",
   "metadata": {},
   "source": [
    "Compute the solution using both successive approximations --- that is,\n",
    "\n",
    "$$ x_{t+1} = A x_t + b $$\n",
    "\n",
    "and matrix algebra."
   ]
  },
  {
   "cell_type": "code",
   "execution_count": 6,
   "metadata": {
    "collapsed": false
   },
   "outputs": [
    {
     "name": "stdout",
     "output_type": "stream",
     "text": [
      "[[ -0.89551467]\n",
      " [ 13.34328131]\n",
      " [ 45.64176737]]\n",
      "[[ -0.89552239]\n",
      " [ 13.34328358]\n",
      " [ 45.64179104]]\n"
     ]
    }
   ],
   "source": [
    "#successive approximation\n",
    "x_now = np.array([[1], [1], [1]])\n",
    "x_prev = np.array([[0], [0], [0]])\n",
    "while abs(x_now - x_prev).sum() > 1e-5:\n",
    "    x_prev = x_now\n",
    "    x_now = A@x_prev + b\n",
    "print(x_now)\n",
    "\n",
    "#using linear algebra\n",
    "x_ans = solve(np.eye(A.shape[0]) - A, b)\n",
    "print(x_ans)"
   ]
  },
  {
   "cell_type": "markdown",
   "metadata": {},
   "source": [
    "### Exercise 2"
   ]
  },
  {
   "cell_type": "markdown",
   "metadata": {},
   "source": [
    "In a standard job search model, an agent \n",
    "\n",
    "\n",
    "* receives offer $w_t$ in period $t$ where $\\{w_t\\}$ is  iid\n",
    "* accepts this offer at time $t$ or remains unemployed\n",
    "    *  if remains unemployed, then receives compensation $c > 0$\n",
    "    * if accepts, then works indefinitely at this wage\n",
    "\n",
    "The agent discounts the future at rate $\\beta \\in (0, 1)$\n",
    "\n",
    "\n",
    "It can be shown that the following is an optimal strategy: \n",
    "\n",
    "* Set a reservation wage $\\bar w$\n",
    "* Accept the first offer $w_t$ such that $w_t \\geq \\bar w$\n",
    "\n",
    "\n",
    "It can also be shown (details omitted) that $\\bar w$ should satisfy\n",
    "\n",
    "$$\n",
    "    \\bar w\n",
    "    = c (1-\\beta) + \\beta\n",
    "    \\sum_{k=1}^K \\max \\left\\{\n",
    "        w_k ,\\, \\bar w\n",
    "    \\right\\}\n",
    "    \\, p_k\n",
    "$$\n",
    "\n",
    "Here \n",
    "\n",
    "* $w_1, \\ldots, w_K$ are the possible wage values, occuring with probabilities $p_1, \\ldots, p_K$\n",
    "* $c > 0$\n",
    "\n",
    "Does there always exists a $x \\in [0, \\infty)$ that solves the equation\n",
    "$$\n",
    "    x\n",
    "    = c (1-\\beta) + \\beta\n",
    "    \\sum_{k=1}^K \\max \\left\\{\n",
    "        w_k ,\\, x\n",
    "    \\right\\}\n",
    "    \\, p_k\n",
    "$$\n",
    "Is it unique?  Suggest a strategy for computing it"
   ]
  },
  {
   "cell_type": "markdown",
   "metadata": {},
   "source": [
    "#### Hints\n",
    "\n",
    "There are different ways to show this, but I found the following facts useful:\n",
    "\n",
    "*  If $x_1, \\ldots, x_K$ are any $K$ numbers, then\n",
    "\n",
    "$$ \\left| \\sum_{k=1}^K x_k \\right| \\leq \\sum_{k=1}^K |x_k| $$\n",
    "\n",
    "* For any $a, x, y$ in $\\mathbb R$, \n",
    "    \n",
    "$$ \n",
    "    \\left| \n",
    "            \\max \\left\\{ a,\\, x \\right\\} - \\max \\left\\{ a,\\, y \\right\\} \n",
    "        \\right|\n",
    "        \\leq | x - y |\n",
    "$$\n",
    "\n",
    "\n",
    "You can convince yourself of the second inequality by sketching and checking different cases..."
   ]
  },
  {
   "cell_type": "markdown",
   "metadata": {},
   "source": [
    "### Exercise 3"
   ]
  },
  {
   "cell_type": "markdown",
   "metadata": {},
   "source": [
    "Let \n",
    "\n",
    "* $\\beta = 0.96$\n",
    "* $(w_1, w_2, w_3) = (0.5, 1.0, 1.5)$\n",
    "* $(p_1, p_2, p_3) = (0.2, 0.4, 0.4)$\n",
    "\n",
    "Compute and plot the reservation wage for unemployment compensation values"
   ]
  },
  {
   "cell_type": "code",
   "execution_count": 10,
   "metadata": {
    "collapsed": true
   },
   "outputs": [],
   "source": [
    "c_vals = np.linspace(1, 2, 100)"
   ]
  },
  {
   "cell_type": "markdown",
   "metadata": {},
   "source": [
    "Is the reservation wage increasing or decreasing in this value?  Does that coincide with your intuition?"
   ]
  },
  {
   "cell_type": "code",
   "execution_count": 12,
   "metadata": {
    "collapsed": false
   },
   "outputs": [
    {
     "data": {
      "image/png": "[encoded data removed]",
      "text/plain": [
       "<matplotlib.figure.Figure at 0x10b37d0f0>"
      ]
     },
     "metadata": {},
     "output_type": "display_data"
    }
   ],
   "source": [
    "def find_res_wage(c, beta, w_arr, p_arr, x_init):\n",
    "    x_now = x_init\n",
    "    x_prev = x_init - 2\n",
    "    while abs(x_now - x_prev) > 1e-5:\n",
    "        x_prev = x_now\n",
    "        x_now = c * (1 - beta) + beta * np.maximum(w_arr, x_prev) @ p_arr\n",
    "    return x_now\n",
    "\n",
    "beta = 0.96\n",
    "w_arr = np.array([0.5,1.0,1.5])\n",
    "p_arr = np.array([0.2,0.4,0.4])\n",
    "x_list = []\n",
    "for c in c_vals:\n",
    "    x_res = find_res_wage(c, beta , w_arr, p_arr, c)\n",
    "    x_list.append(x_res)\n",
    "plt.plot(c_vals, x_list)\n",
    "plt.xlabel('Compensation')\n",
    "plt.ylabel('Reservation Wage')\n",
    "plt.show()\n",
    "#after compensation. = 1.5, reservation wage linearly increasing with compensation"
   ]
  },
  {
   "cell_type": "code",
   "execution_count": null,
   "metadata": {
    "collapsed": true
   },
   "outputs": [],
   "source": []
  }
 ],
 "metadata": {
  "anaconda-cloud": {},
  "kernelspec": {
   "display_name": "Python [default]",
   "language": "python",
   "name": "python3"
  },
  "language_info": {
   "codemirror_mode": {
    "name": "ipython",
    "version": 3
   },
   "file_extension": ".py",
   "mimetype": "text/x-python",
   "name": "python",
   "nbconvert_exporter": "python",
   "pygments_lexer": "ipython3",
   "version": "3.5.2"
  }
 },
 "nbformat": 4,
 "nbformat_minor": 2
}
